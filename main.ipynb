{
<<<<<<< HEAD
 "cells": [
  {
   "cell_type": "code",
   "execution_count": 14,
   "id": "0bac1b06",
   "metadata": {},
   "outputs": [],
   "source": [
    "import pandas as pd\n",
    "import fastparquet\n",
    "import numpy as np\n",
    "import seaborn as sns\n",
    "import matplotlib.pyplot as mp"
   ]
  },
  {
   "cell_type": "code",
   "execution_count": 31,
   "id": "ba423594",
   "metadata": {
    "scrolled": true
   },
   "outputs": [
    {
     "data": {
      "text/html": [
       "<div>\n",
       "<style scoped>\n",
       "    .dataframe tbody tr th:only-of-type {\n",
       "        vertical-align: middle;\n",
       "    }\n",
       "\n",
       "    .dataframe tbody tr th {\n",
       "        vertical-align: top;\n",
       "    }\n",
       "\n",
       "    .dataframe thead th {\n",
       "        text-align: right;\n",
       "    }\n",
       "</style>\n",
       "<table border=\"1\" class=\"dataframe\">\n",
       "  <thead>\n",
       "    <tr style=\"text-align: right;\">\n",
       "      <th></th>\n",
       "      <th>Unnamed: 0</th>\n",
       "      <th>airQualityLevel</th>\n",
       "      <th>observationDateTime</th>\n",
       "      <th>deviceStatus</th>\n",
       "      <th>aqiMajorPollutant</th>\n",
       "      <th>id</th>\n",
       "      <th>airQualityIndex</th>\n",
       "      <th>uv.avgOverTime</th>\n",
       "      <th>o3.avgOverTime</th>\n",
       "      <th>pm2p5.avgOverTime</th>\n",
       "      <th>co2.avgOverTime</th>\n",
       "      <th>pm10.avgOverTime</th>\n",
       "      <th>co.avgOverTime</th>\n",
       "      <th>no2.avgOverTime</th>\n",
       "      <th>airTemperature.avgOverTime</th>\n",
       "      <th>illuminance.avgOverTime</th>\n",
       "      <th>ambientNoise.avgOverTime</th>\n",
       "      <th>so2.avgOverTime</th>\n",
       "      <th>relativeHumidity.avgOverTime</th>\n",
       "      <th>atmosphericPressure.avgOverTime</th>\n",
       "    </tr>\n",
       "  </thead>\n",
       "  <tbody>\n",
       "    <tr>\n",
       "      <th>113508</th>\n",
       "      <td>113508</td>\n",
       "      <td>MODERATE</td>\n",
       "      <td>2022-01-30 23:16:32+05:00</td>\n",
       "      <td>ACTIVE</td>\n",
       "      <td>CO</td>\n",
       "      <td>datakaveri.org/04a15c9960ffda227e9546f3f46e629...</td>\n",
       "      <td>109.0</td>\n",
       "      <td>0.0</td>\n",
       "      <td>0.00</td>\n",
       "      <td>41.08</td>\n",
       "      <td>257.56</td>\n",
       "      <td>83.06</td>\n",
       "      <td>4.24</td>\n",
       "      <td>105.07</td>\n",
       "      <td>22.41</td>\n",
       "      <td>2.62</td>\n",
       "      <td>78.20</td>\n",
       "      <td>2.49</td>\n",
       "      <td>56.14</td>\n",
       "      <td>0.94</td>\n",
       "    </tr>\n",
       "    <tr>\n",
       "      <th>113509</th>\n",
       "      <td>113509</td>\n",
       "      <td>SATISFACTORY</td>\n",
       "      <td>2022-01-30 23:16:32+05:00</td>\n",
       "      <td>ACTIVE</td>\n",
       "      <td>PM10</td>\n",
       "      <td>datakaveri.org/04a15c9960ffda227e9546f3f46e629...</td>\n",
       "      <td>85.0</td>\n",
       "      <td>0.0</td>\n",
       "      <td>8.51</td>\n",
       "      <td>49.82</td>\n",
       "      <td>411.46</td>\n",
       "      <td>99.86</td>\n",
       "      <td>1.12</td>\n",
       "      <td>81.90</td>\n",
       "      <td>20.89</td>\n",
       "      <td>24.81</td>\n",
       "      <td>72.40</td>\n",
       "      <td>0.00</td>\n",
       "      <td>58.08</td>\n",
       "      <td>0.93</td>\n",
       "    </tr>\n",
       "    <tr>\n",
       "      <th>113510</th>\n",
       "      <td>113510</td>\n",
       "      <td>MODERATE</td>\n",
       "      <td>2022-01-30 23:16:32+05:00</td>\n",
       "      <td>ACTIVE</td>\n",
       "      <td>CO</td>\n",
       "      <td>datakaveri.org/04a15c9960ffda227e9546f3f46e629...</td>\n",
       "      <td>105.0</td>\n",
       "      <td>0.0</td>\n",
       "      <td>0.00</td>\n",
       "      <td>74.10</td>\n",
       "      <td>762.79</td>\n",
       "      <td>236.90</td>\n",
       "      <td>3.53</td>\n",
       "      <td>108.52</td>\n",
       "      <td>23.13</td>\n",
       "      <td>19.65</td>\n",
       "      <td>75.39</td>\n",
       "      <td>1.37</td>\n",
       "      <td>52.31</td>\n",
       "      <td>0.93</td>\n",
       "    </tr>\n",
       "    <tr>\n",
       "      <th>113511</th>\n",
       "      <td>113511</td>\n",
       "      <td>MODERATE</td>\n",
       "      <td>2022-01-30 23:16:32+05:00</td>\n",
       "      <td>ACTIVE</td>\n",
       "      <td>CO</td>\n",
       "      <td>datakaveri.org/04a15c9960ffda227e9546f3f46e629...</td>\n",
       "      <td>109.0</td>\n",
       "      <td>0.0</td>\n",
       "      <td>0.00</td>\n",
       "      <td>41.08</td>\n",
       "      <td>257.56</td>\n",
       "      <td>83.06</td>\n",
       "      <td>4.24</td>\n",
       "      <td>105.07</td>\n",
       "      <td>22.41</td>\n",
       "      <td>2.62</td>\n",
       "      <td>78.20</td>\n",
       "      <td>2.49</td>\n",
       "      <td>56.14</td>\n",
       "      <td>0.94</td>\n",
       "    </tr>\n",
       "  </tbody>\n",
       "</table>\n",
       "</div>"
      ],
      "text/plain": [
       "        Unnamed: 0 airQualityLevel        observationDateTime deviceStatus  \\\n",
       "113508      113508        MODERATE  2022-01-30 23:16:32+05:00       ACTIVE   \n",
       "113509      113509    SATISFACTORY  2022-01-30 23:16:32+05:00       ACTIVE   \n",
       "113510      113510        MODERATE  2022-01-30 23:16:32+05:00       ACTIVE   \n",
       "113511      113511        MODERATE  2022-01-30 23:16:32+05:00       ACTIVE   \n",
       "\n",
       "       aqiMajorPollutant                                                 id  \\\n",
       "113508                CO  datakaveri.org/04a15c9960ffda227e9546f3f46e629...   \n",
       "113509              PM10  datakaveri.org/04a15c9960ffda227e9546f3f46e629...   \n",
       "113510                CO  datakaveri.org/04a15c9960ffda227e9546f3f46e629...   \n",
       "113511                CO  datakaveri.org/04a15c9960ffda227e9546f3f46e629...   \n",
       "\n",
       "        airQualityIndex  uv.avgOverTime  o3.avgOverTime  pm2p5.avgOverTime  \\\n",
       "113508            109.0             0.0            0.00              41.08   \n",
       "113509             85.0             0.0            8.51              49.82   \n",
       "113510            105.0             0.0            0.00              74.10   \n",
       "113511            109.0             0.0            0.00              41.08   \n",
       "\n",
       "        co2.avgOverTime  pm10.avgOverTime  co.avgOverTime  no2.avgOverTime  \\\n",
       "113508           257.56             83.06            4.24           105.07   \n",
       "113509           411.46             99.86            1.12            81.90   \n",
       "113510           762.79            236.90            3.53           108.52   \n",
       "113511           257.56             83.06            4.24           105.07   \n",
       "\n",
       "        airTemperature.avgOverTime  illuminance.avgOverTime  \\\n",
       "113508                       22.41                     2.62   \n",
       "113509                       20.89                    24.81   \n",
       "113510                       23.13                    19.65   \n",
       "113511                       22.41                     2.62   \n",
       "\n",
       "        ambientNoise.avgOverTime  so2.avgOverTime  \\\n",
       "113508                     78.20             2.49   \n",
       "113509                     72.40             0.00   \n",
       "113510                     75.39             1.37   \n",
       "113511                     78.20             2.49   \n",
       "\n",
       "        relativeHumidity.avgOverTime  atmosphericPressure.avgOverTime  \n",
       "113508                         56.14                             0.94  \n",
       "113509                         58.08                             0.93  \n",
       "113510                         52.31                             0.93  \n",
       "113511                         56.14                             0.94  "
      ]
     },
     "execution_count": 31,
     "metadata": {},
     "output_type": "execute_result"
    }
   ],
   "source": [
    "pune_aqm = pd.read_csv(\"pune-aqm-jan.csv\")\n",
    "pune_aqm.tail(4)"
   ]
  },
  {
   "cell_type": "code",
   "execution_count": 3,
   "id": "28942120",
   "metadata": {
    "scrolled": true
   },
   "outputs": [
=======
  "cells": [
    {
      "cell_type": "code",
      "execution_count": 16,
      "id": "0bac1b06",
      "metadata": {
        "id": "0bac1b06"
      },
      "outputs": [],
      "source": [
        "import pandas as pd\n",
        "import numpy as np"
      ]
    },
    {
      "cell_type": "code",
      "execution_count": 17,
      "id": "ba423594",
      "metadata": {
        "colab": {
          "base_uri": "https://localhost:8080/"
        },
        "id": "ba423594",
        "outputId": "4ed3ac90-9138-429c-f107-25cf1c82f418"
      },
      "outputs": [
        {
          "output_type": "stream",
          "name": "stderr",
          "text": [
            "/usr/local/lib/python3.7/dist-packages/IPython/core/interactiveshell.py:2882: FutureWarning: The error_bad_lines argument has been deprecated and will be removed in a future version.\n",
            "\n",
            "\n",
            "  exec(code_obj, self.user_global_ns, self.user_ns)\n",
            "b'Skipping line 8323: expected 20 fields, saw 34\\n'\n"
          ]
        }
      ],
      "source": [
        "pune_aqm = pd.read_csv(\"pune-aqm-jan.csv\",  error_bad_lines=False)\n",
        "\n",
        "\n",
        "X = pune_aqm.iloc[:, 7:].values\n",
        "\n",
        "y = pune_aqm.iloc[:, 6].values\n"
      ]
    },
>>>>>>> 456b7181230e724faef2b009d23810d5fd537ebe
    {
      "cell_type": "code",
      "source": [
        "pune_aqm.head()"
      ],
      "metadata": {
        "colab": {
          "base_uri": "https://localhost:8080/",
          "height": 374
        },
        "id": "n08WKdLCd07t",
        "outputId": "542955d9-e402-491e-cbcb-b83169e39e25"
      },
      "id": "n08WKdLCd07t",
      "execution_count": 18,
      "outputs": [
        {
          "output_type": "execute_result",
          "data": {
            "text/plain": [
              "   Unnamed: 0 airQualityLevel        observationDateTime deviceStatus  \\\n",
              "0           0        MODERATE  2021-12-31 23:31:08+05:00       ACTIVE   \n",
              "1           1          SEVERE  2021-12-31 23:31:08+05:00       ACTIVE   \n",
              "2           2       VERY_POOR  2021-12-31 23:31:09+05:00       ACTIVE   \n",
              "3           3        MODERATE  2021-12-31 23:31:09+05:00       ACTIVE   \n",
              "4           4        MODERATE  2021-12-31 23:31:09+05:00       ACTIVE   \n",
              "\n",
              "  aqiMajorPollutant                                                 id  \\\n",
              "0                CO  datakaveri.org/04a15c9960ffda227e9546f3f46e629...   \n",
              "1             PM2.5  datakaveri.org/04a15c9960ffda227e9546f3f46e629...   \n",
              "2             PM2.5  datakaveri.org/04a15c9960ffda227e9546f3f46e629...   \n",
              "3                CO  datakaveri.org/04a15c9960ffda227e9546f3f46e629...   \n",
              "4             PM2.5  datakaveri.org/04a15c9960ffda227e9546f3f46e629...   \n",
              "\n",
              "   airQualityIndex  uv.avgOverTime  o3.avgOverTime  pm2p5.avgOverTime  \\\n",
              "0            103.0             0.0           29.70               2.96   \n",
              "1            408.0             0.0            0.00             328.16   \n",
              "2            366.0             0.0            0.00             222.11   \n",
              "3            104.0             0.0            0.00               0.79   \n",
              "4            198.0             0.0            5.92              84.03   \n",
              "\n",
              "   co2.avgOverTime  pm10.avgOverTime  co.avgOverTime  no2.avgOverTime  \\\n",
              "0             0.00              3.78            3.36            51.81   \n",
              "1           675.62            487.34            3.17            58.84   \n",
              "2           315.10            335.07            2.37            64.17   \n",
              "3           569.80              0.99            2.30            65.93   \n",
              "4             0.00            117.69            2.18            56.58   \n",
              "\n",
              "   airTemperature.avgOverTime  illuminance.avgOverTime  \\\n",
              "0                       19.91                     4.08   \n",
              "1                       20.79                     1.16   \n",
              "2                       20.91                     4.51   \n",
              "3                       20.82                    18.08   \n",
              "4                       21.66                     1.67   \n",
              "\n",
              "   ambientNoise.avgOverTime  so2.avgOverTime  relativeHumidity.avgOverTime  \\\n",
              "0                     78.80             3.78                         77.22   \n",
              "1                     62.37             0.21                         77.25   \n",
              "2                     75.95             3.13                         76.85   \n",
              "3                     75.92             0.35                         75.40   \n",
              "4                     82.03             1.00                         75.50   \n",
              "\n",
              "   atmosphericPressure.avgOverTime  \n",
              "0                             0.94  \n",
              "1                             0.94  \n",
              "2                             0.94  \n",
              "3                             0.94  \n",
              "4                             0.87  "
            ],
            "text/html": [
              "\n",
              "  <div id=\"df-cce63c4f-e908-4667-ae9d-c43fda83cac2\">\n",
              "    <div class=\"colab-df-container\">\n",
              "      <div>\n",
              "<style scoped>\n",
              "    .dataframe tbody tr th:only-of-type {\n",
              "        vertical-align: middle;\n",
              "    }\n",
              "\n",
              "    .dataframe tbody tr th {\n",
              "        vertical-align: top;\n",
              "    }\n",
              "\n",
              "    .dataframe thead th {\n",
              "        text-align: right;\n",
              "    }\n",
              "</style>\n",
              "<table border=\"1\" class=\"dataframe\">\n",
              "  <thead>\n",
              "    <tr style=\"text-align: right;\">\n",
              "      <th></th>\n",
              "      <th>Unnamed: 0</th>\n",
              "      <th>airQualityLevel</th>\n",
              "      <th>observationDateTime</th>\n",
              "      <th>deviceStatus</th>\n",
              "      <th>aqiMajorPollutant</th>\n",
              "      <th>id</th>\n",
              "      <th>airQualityIndex</th>\n",
              "      <th>uv.avgOverTime</th>\n",
              "      <th>o3.avgOverTime</th>\n",
              "      <th>pm2p5.avgOverTime</th>\n",
              "      <th>co2.avgOverTime</th>\n",
              "      <th>pm10.avgOverTime</th>\n",
              "      <th>co.avgOverTime</th>\n",
              "      <th>no2.avgOverTime</th>\n",
              "      <th>airTemperature.avgOverTime</th>\n",
              "      <th>illuminance.avgOverTime</th>\n",
              "      <th>ambientNoise.avgOverTime</th>\n",
              "      <th>so2.avgOverTime</th>\n",
              "      <th>relativeHumidity.avgOverTime</th>\n",
              "      <th>atmosphericPressure.avgOverTime</th>\n",
              "    </tr>\n",
              "  </thead>\n",
              "  <tbody>\n",
              "    <tr>\n",
              "      <th>0</th>\n",
              "      <td>0</td>\n",
              "      <td>MODERATE</td>\n",
              "      <td>2021-12-31 23:31:08+05:00</td>\n",
              "      <td>ACTIVE</td>\n",
              "      <td>CO</td>\n",
              "      <td>datakaveri.org/04a15c9960ffda227e9546f3f46e629...</td>\n",
              "      <td>103.0</td>\n",
              "      <td>0.0</td>\n",
              "      <td>29.70</td>\n",
              "      <td>2.96</td>\n",
              "      <td>0.00</td>\n",
              "      <td>3.78</td>\n",
              "      <td>3.36</td>\n",
              "      <td>51.81</td>\n",
              "      <td>19.91</td>\n",
              "      <td>4.08</td>\n",
              "      <td>78.80</td>\n",
              "      <td>3.78</td>\n",
              "      <td>77.22</td>\n",
              "      <td>0.94</td>\n",
              "    </tr>\n",
              "    <tr>\n",
              "      <th>1</th>\n",
              "      <td>1</td>\n",
              "      <td>SEVERE</td>\n",
              "      <td>2021-12-31 23:31:08+05:00</td>\n",
              "      <td>ACTIVE</td>\n",
              "      <td>PM2.5</td>\n",
              "      <td>datakaveri.org/04a15c9960ffda227e9546f3f46e629...</td>\n",
              "      <td>408.0</td>\n",
              "      <td>0.0</td>\n",
              "      <td>0.00</td>\n",
              "      <td>328.16</td>\n",
              "      <td>675.62</td>\n",
              "      <td>487.34</td>\n",
              "      <td>3.17</td>\n",
              "      <td>58.84</td>\n",
              "      <td>20.79</td>\n",
              "      <td>1.16</td>\n",
              "      <td>62.37</td>\n",
              "      <td>0.21</td>\n",
              "      <td>77.25</td>\n",
              "      <td>0.94</td>\n",
              "    </tr>\n",
              "    <tr>\n",
              "      <th>2</th>\n",
              "      <td>2</td>\n",
              "      <td>VERY_POOR</td>\n",
              "      <td>2021-12-31 23:31:09+05:00</td>\n",
              "      <td>ACTIVE</td>\n",
              "      <td>PM2.5</td>\n",
              "      <td>datakaveri.org/04a15c9960ffda227e9546f3f46e629...</td>\n",
              "      <td>366.0</td>\n",
              "      <td>0.0</td>\n",
              "      <td>0.00</td>\n",
              "      <td>222.11</td>\n",
              "      <td>315.10</td>\n",
              "      <td>335.07</td>\n",
              "      <td>2.37</td>\n",
              "      <td>64.17</td>\n",
              "      <td>20.91</td>\n",
              "      <td>4.51</td>\n",
              "      <td>75.95</td>\n",
              "      <td>3.13</td>\n",
              "      <td>76.85</td>\n",
              "      <td>0.94</td>\n",
              "    </tr>\n",
              "    <tr>\n",
              "      <th>3</th>\n",
              "      <td>3</td>\n",
              "      <td>MODERATE</td>\n",
              "      <td>2021-12-31 23:31:09+05:00</td>\n",
              "      <td>ACTIVE</td>\n",
              "      <td>CO</td>\n",
              "      <td>datakaveri.org/04a15c9960ffda227e9546f3f46e629...</td>\n",
              "      <td>104.0</td>\n",
              "      <td>0.0</td>\n",
              "      <td>0.00</td>\n",
              "      <td>0.79</td>\n",
              "      <td>569.80</td>\n",
              "      <td>0.99</td>\n",
              "      <td>2.30</td>\n",
              "      <td>65.93</td>\n",
              "      <td>20.82</td>\n",
              "      <td>18.08</td>\n",
              "      <td>75.92</td>\n",
              "      <td>0.35</td>\n",
              "      <td>75.40</td>\n",
              "      <td>0.94</td>\n",
              "    </tr>\n",
              "    <tr>\n",
              "      <th>4</th>\n",
              "      <td>4</td>\n",
              "      <td>MODERATE</td>\n",
              "      <td>2021-12-31 23:31:09+05:00</td>\n",
              "      <td>ACTIVE</td>\n",
              "      <td>PM2.5</td>\n",
              "      <td>datakaveri.org/04a15c9960ffda227e9546f3f46e629...</td>\n",
              "      <td>198.0</td>\n",
              "      <td>0.0</td>\n",
              "      <td>5.92</td>\n",
              "      <td>84.03</td>\n",
              "      <td>0.00</td>\n",
              "      <td>117.69</td>\n",
              "      <td>2.18</td>\n",
              "      <td>56.58</td>\n",
              "      <td>21.66</td>\n",
              "      <td>1.67</td>\n",
              "      <td>82.03</td>\n",
              "      <td>1.00</td>\n",
              "      <td>75.50</td>\n",
              "      <td>0.87</td>\n",
              "    </tr>\n",
              "  </tbody>\n",
              "</table>\n",
              "</div>\n",
              "      <button class=\"colab-df-convert\" onclick=\"convertToInteractive('df-cce63c4f-e908-4667-ae9d-c43fda83cac2')\"\n",
              "              title=\"Convert this dataframe to an interactive table.\"\n",
              "              style=\"display:none;\">\n",
              "        \n",
              "  <svg xmlns=\"http://www.w3.org/2000/svg\" height=\"24px\"viewBox=\"0 0 24 24\"\n",
              "       width=\"24px\">\n",
              "    <path d=\"M0 0h24v24H0V0z\" fill=\"none\"/>\n",
              "    <path d=\"M18.56 5.44l.94 2.06.94-2.06 2.06-.94-2.06-.94-.94-2.06-.94 2.06-2.06.94zm-11 1L8.5 8.5l.94-2.06 2.06-.94-2.06-.94L8.5 2.5l-.94 2.06-2.06.94zm10 10l.94 2.06.94-2.06 2.06-.94-2.06-.94-.94-2.06-.94 2.06-2.06.94z\"/><path d=\"M17.41 7.96l-1.37-1.37c-.4-.4-.92-.59-1.43-.59-.52 0-1.04.2-1.43.59L10.3 9.45l-7.72 7.72c-.78.78-.78 2.05 0 2.83L4 21.41c.39.39.9.59 1.41.59.51 0 1.02-.2 1.41-.59l7.78-7.78 2.81-2.81c.8-.78.8-2.07 0-2.86zM5.41 20L4 18.59l7.72-7.72 1.47 1.35L5.41 20z\"/>\n",
              "  </svg>\n",
              "      </button>\n",
              "      \n",
              "  <style>\n",
              "    .colab-df-container {\n",
              "      display:flex;\n",
              "      flex-wrap:wrap;\n",
              "      gap: 12px;\n",
              "    }\n",
              "\n",
              "    .colab-df-convert {\n",
              "      background-color: #E8F0FE;\n",
              "      border: none;\n",
              "      border-radius: 50%;\n",
              "      cursor: pointer;\n",
              "      display: none;\n",
              "      fill: #1967D2;\n",
              "      height: 32px;\n",
              "      padding: 0 0 0 0;\n",
              "      width: 32px;\n",
              "    }\n",
              "\n",
              "    .colab-df-convert:hover {\n",
              "      background-color: #E2EBFA;\n",
              "      box-shadow: 0px 1px 2px rgba(60, 64, 67, 0.3), 0px 1px 3px 1px rgba(60, 64, 67, 0.15);\n",
              "      fill: #174EA6;\n",
              "    }\n",
              "\n",
              "    [theme=dark] .colab-df-convert {\n",
              "      background-color: #3B4455;\n",
              "      fill: #D2E3FC;\n",
              "    }\n",
              "\n",
              "    [theme=dark] .colab-df-convert:hover {\n",
              "      background-color: #434B5C;\n",
              "      box-shadow: 0px 1px 3px 1px rgba(0, 0, 0, 0.15);\n",
              "      filter: drop-shadow(0px 1px 2px rgba(0, 0, 0, 0.3));\n",
              "      fill: #FFFFFF;\n",
              "    }\n",
              "  </style>\n",
              "\n",
              "      <script>\n",
              "        const buttonEl =\n",
              "          document.querySelector('#df-cce63c4f-e908-4667-ae9d-c43fda83cac2 button.colab-df-convert');\n",
              "        buttonEl.style.display =\n",
              "          google.colab.kernel.accessAllowed ? 'block' : 'none';\n",
              "\n",
              "        async function convertToInteractive(key) {\n",
              "          const element = document.querySelector('#df-cce63c4f-e908-4667-ae9d-c43fda83cac2');\n",
              "          const dataTable =\n",
              "            await google.colab.kernel.invokeFunction('convertToInteractive',\n",
              "                                                     [key], {});\n",
              "          if (!dataTable) return;\n",
              "\n",
              "          const docLinkHtml = 'Like what you see? Visit the ' +\n",
              "            '<a target=\"_blank\" href=https://colab.research.google.com/notebooks/data_table.ipynb>data table notebook</a>'\n",
              "            + ' to learn more about interactive tables.';\n",
              "          element.innerHTML = '';\n",
              "          dataTable['output_type'] = 'display_data';\n",
              "          await google.colab.output.renderOutput(dataTable, element);\n",
              "          const docLink = document.createElement('div');\n",
              "          docLink.innerHTML = docLinkHtml;\n",
              "          element.appendChild(docLink);\n",
              "        }\n",
              "      </script>\n",
              "    </div>\n",
              "  </div>\n",
              "  "
            ]
          },
          "metadata": {},
          "execution_count": 18
        }
      ]
<<<<<<< HEAD
     },
     "execution_count": 3,
     "metadata": {},
     "output_type": "execute_result"
    }
   ],
   "source": [
    "# getting the columns\n",
    "pune_aqm.columns"
   ]
  },
  {
   "cell_type": "markdown",
   "id": "f10e1efc",
   "metadata": {},
   "source": [
    "## Cleaning the Data"
   ]
  },
  {
   "cell_type": "code",
   "execution_count": 4,
   "id": "d3a7c908",
   "metadata": {},
   "outputs": [
    {
     "data": {
      "text/html": [
       "<div>\n",
       "<style scoped>\n",
       "    .dataframe tbody tr th:only-of-type {\n",
       "        vertical-align: middle;\n",
       "    }\n",
       "\n",
       "    .dataframe tbody tr th {\n",
       "        vertical-align: top;\n",
       "    }\n",
       "\n",
       "    .dataframe thead th {\n",
       "        text-align: right;\n",
       "    }\n",
       "</style>\n",
       "<table border=\"1\" class=\"dataframe\">\n",
       "  <thead>\n",
       "    <tr style=\"text-align: right;\">\n",
       "      <th></th>\n",
       "      <th>Unnamed: 0</th>\n",
       "      <th>airQualityLevel</th>\n",
       "      <th>observationDateTime</th>\n",
       "      <th>deviceStatus</th>\n",
       "      <th>aqiMajorPollutant</th>\n",
       "      <th>id</th>\n",
       "      <th>airQualityIndex</th>\n",
       "      <th>uv.avgOverTime</th>\n",
       "      <th>o3.avgOverTime</th>\n",
       "      <th>pm2p5.avgOverTime</th>\n",
       "      <th>co2.avgOverTime</th>\n",
       "      <th>pm10.avgOverTime</th>\n",
       "      <th>co.avgOverTime</th>\n",
       "      <th>no2.avgOverTime</th>\n",
       "      <th>airTemperature.avgOverTime</th>\n",
       "      <th>illuminance.avgOverTime</th>\n",
       "      <th>ambientNoise.avgOverTime</th>\n",
       "      <th>so2.avgOverTime</th>\n",
       "      <th>relativeHumidity.avgOverTime</th>\n",
       "      <th>atmosphericPressure.avgOverTime</th>\n",
       "    </tr>\n",
       "  </thead>\n",
       "  <tbody>\n",
       "  </tbody>\n",
       "</table>\n",
       "</div>"
      ],
      "text/plain": [
       "Empty DataFrame\n",
       "Columns: [Unnamed: 0, airQualityLevel, observationDateTime, deviceStatus, aqiMajorPollutant, id, airQualityIndex, uv.avgOverTime, o3.avgOverTime, pm2p5.avgOverTime, co2.avgOverTime, pm10.avgOverTime, co.avgOverTime, no2.avgOverTime, airTemperature.avgOverTime, illuminance.avgOverTime, ambientNoise.avgOverTime, so2.avgOverTime, relativeHumidity.avgOverTime, atmosphericPressure.avgOverTime]\n",
       "Index: []"
      ]
     },
     "execution_count": 4,
     "metadata": {},
     "output_type": "execute_result"
    }
   ],
   "source": [
    "pune_aqm[pd.isnull(pune_aqm[\"airQualityIndex\"])]"
   ]
  },
  {
   "cell_type": "code",
   "execution_count": 5,
   "id": "bdeedafc",
   "metadata": {},
   "outputs": [],
   "source": [
    "pune_aqm[\"observationDateTime\"]\n",
    "pune_aqm['observationDateTime'] =  pd.to_datetime(pune_aqm['observationDateTime'])"
   ]
  },
  {
   "cell_type": "code",
   "execution_count": 6,
   "id": "3fccf73a",
   "metadata": {},
   "outputs": [
    {
     "data": {
      "text/plain": [
       "0        2021-12-31 23:31:08+05:00\n",
       "1        2021-12-31 23:31:08+05:00\n",
       "2        2021-12-31 23:31:09+05:00\n",
       "3        2021-12-31 23:31:09+05:00\n",
       "4        2021-12-31 23:31:09+05:00\n",
       "                    ...           \n",
       "113507   2022-01-30 23:16:32+05:00\n",
       "113508   2022-01-30 23:16:32+05:00\n",
       "113509   2022-01-30 23:16:32+05:00\n",
       "113510   2022-01-30 23:16:32+05:00\n",
       "113511   2022-01-30 23:16:32+05:00\n",
       "Name: observationDateTime, Length: 113512, dtype: datetime64[ns, pytz.FixedOffset(300)]"
      ]
     },
     "execution_count": 6,
     "metadata": {},
     "output_type": "execute_result"
    }
   ],
   "source": [
    "pune_aqm[\"observationDateTime\"]\n"
   ]
  },
  {
   "cell_type": "code",
   "execution_count": 7,
   "id": "289c9dfa",
   "metadata": {},
   "outputs": [],
   "source": [
    "pune_aqm.dropna(inplace=True)\n",
    "pune_aqm.reset_index(inplace=True)"
   ]
  },
  {
   "cell_type": "code",
   "execution_count": 30,
   "id": "39d73d9d",
   "metadata": {},
   "outputs": [
    {
     "data": {
      "text/plain": [
       "index                              0\n",
       "Unnamed: 0                         0\n",
       "airQualityLevel                    0\n",
       "observationDateTime                0\n",
       "deviceStatus                       0\n",
       "aqiMajorPollutant                  0\n",
       "id                                 0\n",
       "airQualityIndex                    0\n",
       "uv.avgOverTime                     0\n",
       "o3.avgOverTime                     0\n",
       "pm2p5.avgOverTime                  0\n",
       "co2.avgOverTime                    0\n",
       "pm10.avgOverTime                   0\n",
       "co.avgOverTime                     0\n",
       "no2.avgOverTime                    0\n",
       "airTemperature.avgOverTime         0\n",
       "illuminance.avgOverTime            0\n",
       "ambientNoise.avgOverTime           0\n",
       "so2.avgOverTime                    0\n",
       "relativeHumidity.avgOverTime       0\n",
       "atmosphericPressure.avgOverTime    0\n",
       "dtype: int64"
      ]
     },
     "execution_count": 30,
     "metadata": {},
     "output_type": "execute_result"
    }
   ],
   "source": [
    "pune_aqm.isnull().sum()"
   ]
  },
  {
   "cell_type": "markdown",
   "id": "110ab4d8",
   "metadata": {},
   "source": [
    "### Answering the question"
   ]
  },
  {
   "cell_type": "markdown",
   "id": "e8117c8e",
   "metadata": {},
   "source": [
    "#### Specify major pollutant in the city"
   ]
  },
  {
   "cell_type": "code",
   "execution_count": 20,
   "id": "f067eb4b",
   "metadata": {},
   "outputs": [
    {
     "data": {
      "image/png": "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\n",
      "text/plain": [
       "<Figure size 1152x360 with 2 Axes>"
      ]
     },
     "metadata": {
      "needs_background": "light"
     },
     "output_type": "display_data"
    }
   ],
   "source": [
    "mp.figure(figsize = (16,5))\n",
    "dataplot=sns.heatmap(pune_aqm.corr(), linewidths=1, linecolor='white',annot=True)\n",
    "mp.show()"
   ]
  },
  {
   "cell_type": "markdown",
   "id": "6f0aaeb7",
   "metadata": {},
   "source": [
    "<p> Here we can find out a strong negative correlaation between relative humidity and average temperature. and we can also a strong positive  corelation between pm2p5 and airquality index and pm2p5 and pm10 as well as pm10 airquality </p>"
   ]
  },
  {
   "cell_type": "code",
   "execution_count": 27,
   "id": "171ea97c",
   "metadata": {},
   "outputs": [
    {
     "data": {
      "text/plain": [
       "aqiMajorPollutant\n",
       "CO       16020\n",
       "NO2      20485\n",
       "O3        1987\n",
       "PM10     16637\n",
       "PM2.5    44171\n",
       "Name: index, dtype: int64"
      ]
     },
     "execution_count": 27,
     "metadata": {},
     "output_type": "execute_result"
    }
   ],
   "source": [
    "pune_aqm.groupby('aqiMajorPollutant').count()['index']"
   ]
  },
  {
   "cell_type": "markdown",
   "id": "b4591868",
   "metadata": {},
   "source": [
    "<p> <b>Major pollutant in the city are :</b> \n",
    "</p>\n",
    "\n",
    "1. PM 2.5\n",
    "2. NO2\n",
    "3. PM10\n",
    "4. CO"
   ]
  },
  {
   "cell_type": "code",
   "execution_count": null,
   "id": "3dc981d2",
   "metadata": {},
   "outputs": [],
   "source": []
  }
 ],
 "metadata": {
  "kernelspec": {
   "display_name": "Python 3 (ipykernel)",
   "language": "python",
   "name": "python3"
=======
    },
    {
      "cell_type": "markdown",
      "source": [
        "# Taking Care of Missing Data"
      ],
      "metadata": {
        "id": "H_nNZhmBZmg_"
      },
      "id": "H_nNZhmBZmg_"
    },
    {
      "cell_type": "code",
      "source": [
        "from sklearn.impute import SimpleImputer\n",
        "\n",
        "imputer = SimpleImputer(missing_values = np.nan, strategy = 'mean')\n",
        "imputer.fit(X[:, 0:13])\n",
        "X[:, 0:13] = imputer.transform(X[:, 0:13]) "
      ],
      "metadata": {
        "id": "-iYiXluIZukT"
      },
      "id": "-iYiXluIZukT",
      "execution_count": 19,
      "outputs": []
    },
    {
      "cell_type": "markdown",
      "source": [
        "#Splitting Data into training and test set"
      ],
      "metadata": {
        "id": "oRcfbg69amM5"
      },
      "id": "oRcfbg69amM5"
    },
    {
      "cell_type": "code",
      "source": [
        "from sklearn.model_selection import train_test_split\n",
        "X_train, X_test, y_train, y_test = train_test_split(X, y, test_size = 0.2, random_state = 1)"
      ],
      "metadata": {
        "id": "gX_a-G1OaySI"
      },
      "id": "gX_a-G1OaySI",
      "execution_count": 24,
      "outputs": []
    },
    {
      "cell_type": "markdown",
      "source": [
        "#Feature Scaling"
      ],
      "metadata": {
        "id": "_6nkaJyybBqx"
      },
      "id": "_6nkaJyybBqx"
    },
    {
      "cell_type": "code",
      "source": [
        "from sklearn.preprocessing import StandardScaler\n",
        "sc = StandardScaler()\n",
        "X_train[:, :] = sc.fit_transform(X_train[:, :])\n",
        "X_test[:, :] = sc.transform(X_test[:, :])"
      ],
      "metadata": {
        "id": "_S7u06XmbD55"
      },
      "id": "_S7u06XmbD55",
      "execution_count": 25,
      "outputs": []
    },
    {
      "cell_type": "code",
      "source": [
        "print(X_test)"
      ],
      "metadata": {
        "colab": {
          "base_uri": "https://localhost:8080/"
        },
        "id": "9mJgcavqbSly",
        "outputId": "69989017-089b-4998-b6a6-82fec0099cb3"
      },
      "id": "9mJgcavqbSly",
      "execution_count": 26,
      "outputs": [
        {
          "output_type": "stream",
          "name": "stdout",
          "text": [
            "[[-4.26879340e-01 -6.63383343e-01  7.15870763e-02 ...  1.99739808e+00\n",
            "   2.51334744e-01  1.00326749e-01]\n",
            " [-4.26879340e-01 -2.82313476e-01 -1.18645103e-03 ... -7.40549633e-01\n",
            "  -6.86159547e-01  1.00326749e-01]\n",
            " [-4.26879340e-01 -9.75523281e-02  3.06797021e+00 ...  2.59425174e+00\n",
            "   9.49912687e-01 -3.60979974e-01]\n",
            " ...\n",
            " [ 1.21271863e+00 -1.04616396e+00 -2.93756108e-01 ... -6.26863223e-01\n",
            "  -1.43453977e+00  8.06540409e-03]\n",
            " [ 2.46518930e+00 -4.76483756e-01 -7.78593124e-01 ... -7.40549633e-01\n",
            "  -4.81566392e-01  8.06540409e-03]\n",
            " [ 3.60379901e+00  1.58711008e+00  9.56410446e-01 ... -1.91065316e-01\n",
            "  -4.12920005e-01  1.00326749e-01]]\n"
          ]
        }
      ]
    },
    {
      "cell_type": "code",
      "source": [
        "print(y_test)"
      ],
      "metadata": {
        "colab": {
          "base_uri": "https://localhost:8080/"
        },
        "id": "oFnX1rB1bX6Z",
        "outputId": "d925d5be-3ecf-4989-f8c2-468dbcdce7c9"
      },
      "id": "oFnX1rB1bX6Z",
      "execution_count": 27,
      "outputs": [
        {
          "output_type": "stream",
          "name": "stdout",
          "text": [
            "[302. 135. 405. ... 209.  77. 354.]\n"
          ]
        }
      ]
    },
    {
      "cell_type": "markdown",
      "source": [
        ""
      ],
      "metadata": {
        "id": "A4pO-0IHbP0T"
      },
      "id": "A4pO-0IHbP0T"
    },
    {
      "cell_type": "code",
      "execution_count": 28,
      "id": "28942120",
      "metadata": {
        "scrolled": true,
        "colab": {
          "base_uri": "https://localhost:8080/"
        },
        "id": "28942120",
        "outputId": "0fdf9fe8-7699-49a7-ac90-dcd8bf0fb85b"
      },
      "outputs": [
        {
          "output_type": "execute_result",
          "data": {
            "text/plain": [
              "Index(['Unnamed: 0', 'airQualityLevel', 'observationDateTime', 'deviceStatus',\n",
              "       'aqiMajorPollutant', 'id', 'airQualityIndex', 'uv.avgOverTime',\n",
              "       'o3.avgOverTime', 'pm2p5.avgOverTime', 'co2.avgOverTime',\n",
              "       'pm10.avgOverTime', 'co.avgOverTime', 'no2.avgOverTime',\n",
              "       'airTemperature.avgOverTime', 'illuminance.avgOverTime',\n",
              "       'ambientNoise.avgOverTime', 'so2.avgOverTime',\n",
              "       'relativeHumidity.avgOverTime', 'atmosphericPressure.avgOverTime'],\n",
              "      dtype='object')"
            ]
          },
          "metadata": {},
          "execution_count": 28
        }
      ],
      "source": [
        "# getting the columns\n",
        "pune_aqm.columns"
      ]
    },
    {
      "cell_type": "markdown",
      "id": "f10e1efc",
      "metadata": {
        "id": "f10e1efc"
      },
      "source": [
        "## Cleaning the Data"
      ]
    },
    {
      "cell_type": "code",
      "execution_count": 29,
      "id": "d3a7c908",
      "metadata": {
        "colab": {
          "base_uri": "https://localhost:8080/",
          "height": 131
        },
        "id": "d3a7c908",
        "outputId": "d762b112-09af-4e0a-ae90-e3d435bbcb72"
      },
      "outputs": [
        {
          "output_type": "execute_result",
          "data": {
            "text/plain": [
              "Empty DataFrame\n",
              "Columns: [Unnamed: 0, airQualityLevel, observationDateTime, deviceStatus, aqiMajorPollutant, id, airQualityIndex, uv.avgOverTime, o3.avgOverTime, pm2p5.avgOverTime, co2.avgOverTime, pm10.avgOverTime, co.avgOverTime, no2.avgOverTime, airTemperature.avgOverTime, illuminance.avgOverTime, ambientNoise.avgOverTime, so2.avgOverTime, relativeHumidity.avgOverTime, atmosphericPressure.avgOverTime]\n",
              "Index: []"
            ],
            "text/html": [
              "\n",
              "  <div id=\"df-531a5233-ee81-482f-8e2d-50e1b1eb529d\">\n",
              "    <div class=\"colab-df-container\">\n",
              "      <div>\n",
              "<style scoped>\n",
              "    .dataframe tbody tr th:only-of-type {\n",
              "        vertical-align: middle;\n",
              "    }\n",
              "\n",
              "    .dataframe tbody tr th {\n",
              "        vertical-align: top;\n",
              "    }\n",
              "\n",
              "    .dataframe thead th {\n",
              "        text-align: right;\n",
              "    }\n",
              "</style>\n",
              "<table border=\"1\" class=\"dataframe\">\n",
              "  <thead>\n",
              "    <tr style=\"text-align: right;\">\n",
              "      <th></th>\n",
              "      <th>Unnamed: 0</th>\n",
              "      <th>airQualityLevel</th>\n",
              "      <th>observationDateTime</th>\n",
              "      <th>deviceStatus</th>\n",
              "      <th>aqiMajorPollutant</th>\n",
              "      <th>id</th>\n",
              "      <th>airQualityIndex</th>\n",
              "      <th>uv.avgOverTime</th>\n",
              "      <th>o3.avgOverTime</th>\n",
              "      <th>pm2p5.avgOverTime</th>\n",
              "      <th>co2.avgOverTime</th>\n",
              "      <th>pm10.avgOverTime</th>\n",
              "      <th>co.avgOverTime</th>\n",
              "      <th>no2.avgOverTime</th>\n",
              "      <th>airTemperature.avgOverTime</th>\n",
              "      <th>illuminance.avgOverTime</th>\n",
              "      <th>ambientNoise.avgOverTime</th>\n",
              "      <th>so2.avgOverTime</th>\n",
              "      <th>relativeHumidity.avgOverTime</th>\n",
              "      <th>atmosphericPressure.avgOverTime</th>\n",
              "    </tr>\n",
              "  </thead>\n",
              "  <tbody>\n",
              "  </tbody>\n",
              "</table>\n",
              "</div>\n",
              "      <button class=\"colab-df-convert\" onclick=\"convertToInteractive('df-531a5233-ee81-482f-8e2d-50e1b1eb529d')\"\n",
              "              title=\"Convert this dataframe to an interactive table.\"\n",
              "              style=\"display:none;\">\n",
              "        \n",
              "  <svg xmlns=\"http://www.w3.org/2000/svg\" height=\"24px\"viewBox=\"0 0 24 24\"\n",
              "       width=\"24px\">\n",
              "    <path d=\"M0 0h24v24H0V0z\" fill=\"none\"/>\n",
              "    <path d=\"M18.56 5.44l.94 2.06.94-2.06 2.06-.94-2.06-.94-.94-2.06-.94 2.06-2.06.94zm-11 1L8.5 8.5l.94-2.06 2.06-.94-2.06-.94L8.5 2.5l-.94 2.06-2.06.94zm10 10l.94 2.06.94-2.06 2.06-.94-2.06-.94-.94-2.06-.94 2.06-2.06.94z\"/><path d=\"M17.41 7.96l-1.37-1.37c-.4-.4-.92-.59-1.43-.59-.52 0-1.04.2-1.43.59L10.3 9.45l-7.72 7.72c-.78.78-.78 2.05 0 2.83L4 21.41c.39.39.9.59 1.41.59.51 0 1.02-.2 1.41-.59l7.78-7.78 2.81-2.81c.8-.78.8-2.07 0-2.86zM5.41 20L4 18.59l7.72-7.72 1.47 1.35L5.41 20z\"/>\n",
              "  </svg>\n",
              "      </button>\n",
              "      \n",
              "  <style>\n",
              "    .colab-df-container {\n",
              "      display:flex;\n",
              "      flex-wrap:wrap;\n",
              "      gap: 12px;\n",
              "    }\n",
              "\n",
              "    .colab-df-convert {\n",
              "      background-color: #E8F0FE;\n",
              "      border: none;\n",
              "      border-radius: 50%;\n",
              "      cursor: pointer;\n",
              "      display: none;\n",
              "      fill: #1967D2;\n",
              "      height: 32px;\n",
              "      padding: 0 0 0 0;\n",
              "      width: 32px;\n",
              "    }\n",
              "\n",
              "    .colab-df-convert:hover {\n",
              "      background-color: #E2EBFA;\n",
              "      box-shadow: 0px 1px 2px rgba(60, 64, 67, 0.3), 0px 1px 3px 1px rgba(60, 64, 67, 0.15);\n",
              "      fill: #174EA6;\n",
              "    }\n",
              "\n",
              "    [theme=dark] .colab-df-convert {\n",
              "      background-color: #3B4455;\n",
              "      fill: #D2E3FC;\n",
              "    }\n",
              "\n",
              "    [theme=dark] .colab-df-convert:hover {\n",
              "      background-color: #434B5C;\n",
              "      box-shadow: 0px 1px 3px 1px rgba(0, 0, 0, 0.15);\n",
              "      filter: drop-shadow(0px 1px 2px rgba(0, 0, 0, 0.3));\n",
              "      fill: #FFFFFF;\n",
              "    }\n",
              "  </style>\n",
              "\n",
              "      <script>\n",
              "        const buttonEl =\n",
              "          document.querySelector('#df-531a5233-ee81-482f-8e2d-50e1b1eb529d button.colab-df-convert');\n",
              "        buttonEl.style.display =\n",
              "          google.colab.kernel.accessAllowed ? 'block' : 'none';\n",
              "\n",
              "        async function convertToInteractive(key) {\n",
              "          const element = document.querySelector('#df-531a5233-ee81-482f-8e2d-50e1b1eb529d');\n",
              "          const dataTable =\n",
              "            await google.colab.kernel.invokeFunction('convertToInteractive',\n",
              "                                                     [key], {});\n",
              "          if (!dataTable) return;\n",
              "\n",
              "          const docLinkHtml = 'Like what you see? Visit the ' +\n",
              "            '<a target=\"_blank\" href=https://colab.research.google.com/notebooks/data_table.ipynb>data table notebook</a>'\n",
              "            + ' to learn more about interactive tables.';\n",
              "          element.innerHTML = '';\n",
              "          dataTable['output_type'] = 'display_data';\n",
              "          await google.colab.output.renderOutput(dataTable, element);\n",
              "          const docLink = document.createElement('div');\n",
              "          docLink.innerHTML = docLinkHtml;\n",
              "          element.appendChild(docLink);\n",
              "        }\n",
              "      </script>\n",
              "    </div>\n",
              "  </div>\n",
              "  "
            ]
          },
          "metadata": {},
          "execution_count": 29
        }
      ],
      "source": [
        "pune_aqm[pd.isnull(pune_aqm[\"airQualityIndex\"])]"
      ]
    },
    {
      "cell_type": "code",
      "execution_count": 30,
      "id": "bdeedafc",
      "metadata": {
        "id": "bdeedafc"
      },
      "outputs": [],
      "source": [
        "pune_aqm[\"observationDateTime\"]\n",
        "pune_aqm['observationDateTime'] =  pd.to_datetime(pune_aqm['observationDateTime'])"
      ]
    },
    {
      "cell_type": "code",
      "execution_count": 31,
      "id": "3fccf73a",
      "metadata": {
        "colab": {
          "base_uri": "https://localhost:8080/"
        },
        "id": "3fccf73a",
        "outputId": "15ead6e8-22fd-45e1-ae80-331c3250e1ae"
      },
      "outputs": [
        {
          "output_type": "execute_result",
          "data": {
            "text/plain": [
              "0        2021-12-31 23:31:08+05:00\n",
              "1        2021-12-31 23:31:08+05:00\n",
              "2        2021-12-31 23:31:09+05:00\n",
              "3        2021-12-31 23:31:09+05:00\n",
              "4        2021-12-31 23:31:09+05:00\n",
              "                    ...           \n",
              "117658   2022-01-30 23:16:32+05:00\n",
              "117659   2022-01-30 23:16:32+05:00\n",
              "117660   2022-01-30 23:16:32+05:00\n",
              "117661   2022-01-30 23:16:32+05:00\n",
              "117662   2022-01-30 23:16:32+05:00\n",
              "Name: observationDateTime, Length: 117663, dtype: datetime64[ns, pytz.FixedOffset(300)]"
            ]
          },
          "metadata": {},
          "execution_count": 31
        }
      ],
      "source": [
        "pune_aqm[\"observationDateTime\"]\n"
      ]
    },
    {
      "cell_type": "code",
      "execution_count": 32,
      "id": "289c9dfa",
      "metadata": {
        "id": "289c9dfa"
      },
      "outputs": [],
      "source": [
        "pune_aqm.dropna(inplace=True)\n",
        "pune_aqm.reset_index(inplace=True)"
      ]
    },
    {
      "cell_type": "code",
      "execution_count": 33,
      "id": "39d73d9d",
      "metadata": {
        "colab": {
          "base_uri": "https://localhost:8080/"
        },
        "id": "39d73d9d",
        "outputId": "3b846d72-4c88-4383-e5d6-07837004f117"
      },
      "outputs": [
        {
          "output_type": "execute_result",
          "data": {
            "text/plain": [
              "0"
            ]
          },
          "metadata": {},
          "execution_count": 33
        }
      ],
      "source": [
        "pune_aqm.isnull().sum().sum()"
      ]
    },
    {
      "cell_type": "markdown",
      "id": "110ab4d8",
      "metadata": {
        "id": "110ab4d8"
      },
      "source": [
        "### Answering the question"
      ]
    },
    {
      "cell_type": "markdown",
      "id": "e8117c8e",
      "metadata": {
        "id": "e8117c8e"
      },
      "source": [
        "#### Specify major pollutant in the city"
      ]
    },
    {
      "cell_type": "code",
      "execution_count": 34,
      "id": "f067eb4b",
      "metadata": {
        "colab": {
          "base_uri": "https://localhost:8080/",
          "height": 404
        },
        "id": "f067eb4b",
        "outputId": "e102b23b-f0ef-441e-e3c9-02d0b42677c0"
      },
      "outputs": [
        {
          "output_type": "execute_result",
          "data": {
            "text/plain": [
              "   index  Unnamed: 0 airQualityLevel       observationDateTime deviceStatus  \\\n",
              "0      0           0        MODERATE 2021-12-31 23:31:08+05:00       ACTIVE   \n",
              "1      1           1          SEVERE 2021-12-31 23:31:08+05:00       ACTIVE   \n",
              "2      2           2       VERY_POOR 2021-12-31 23:31:09+05:00       ACTIVE   \n",
              "3      3           3        MODERATE 2021-12-31 23:31:09+05:00       ACTIVE   \n",
              "4      4           4        MODERATE 2021-12-31 23:31:09+05:00       ACTIVE   \n",
              "\n",
              "  aqiMajorPollutant                                                 id  \\\n",
              "0                CO  datakaveri.org/04a15c9960ffda227e9546f3f46e629...   \n",
              "1             PM2.5  datakaveri.org/04a15c9960ffda227e9546f3f46e629...   \n",
              "2             PM2.5  datakaveri.org/04a15c9960ffda227e9546f3f46e629...   \n",
              "3                CO  datakaveri.org/04a15c9960ffda227e9546f3f46e629...   \n",
              "4             PM2.5  datakaveri.org/04a15c9960ffda227e9546f3f46e629...   \n",
              "\n",
              "   airQualityIndex  uv.avgOverTime  o3.avgOverTime  ...  co2.avgOverTime  \\\n",
              "0            103.0             0.0           29.70  ...             0.00   \n",
              "1            408.0             0.0            0.00  ...           675.62   \n",
              "2            366.0             0.0            0.00  ...           315.10   \n",
              "3            104.0             0.0            0.00  ...           569.80   \n",
              "4            198.0             0.0            5.92  ...             0.00   \n",
              "\n",
              "   pm10.avgOverTime  co.avgOverTime  no2.avgOverTime  \\\n",
              "0              3.78            3.36            51.81   \n",
              "1            487.34            3.17            58.84   \n",
              "2            335.07            2.37            64.17   \n",
              "3              0.99            2.30            65.93   \n",
              "4            117.69            2.18            56.58   \n",
              "\n",
              "   airTemperature.avgOverTime  illuminance.avgOverTime  \\\n",
              "0                       19.91                     4.08   \n",
              "1                       20.79                     1.16   \n",
              "2                       20.91                     4.51   \n",
              "3                       20.82                    18.08   \n",
              "4                       21.66                     1.67   \n",
              "\n",
              "   ambientNoise.avgOverTime  so2.avgOverTime  relativeHumidity.avgOverTime  \\\n",
              "0                     78.80             3.78                         77.22   \n",
              "1                     62.37             0.21                         77.25   \n",
              "2                     75.95             3.13                         76.85   \n",
              "3                     75.92             0.35                         75.40   \n",
              "4                     82.03             1.00                         75.50   \n",
              "\n",
              "   atmosphericPressure.avgOverTime  \n",
              "0                             0.94  \n",
              "1                             0.94  \n",
              "2                             0.94  \n",
              "3                             0.94  \n",
              "4                             0.87  \n",
              "\n",
              "[5 rows x 21 columns]"
            ],
            "text/html": [
              "\n",
              "  <div id=\"df-520ff4fa-c983-41b6-9fd5-9c88f12af4be\">\n",
              "    <div class=\"colab-df-container\">\n",
              "      <div>\n",
              "<style scoped>\n",
              "    .dataframe tbody tr th:only-of-type {\n",
              "        vertical-align: middle;\n",
              "    }\n",
              "\n",
              "    .dataframe tbody tr th {\n",
              "        vertical-align: top;\n",
              "    }\n",
              "\n",
              "    .dataframe thead th {\n",
              "        text-align: right;\n",
              "    }\n",
              "</style>\n",
              "<table border=\"1\" class=\"dataframe\">\n",
              "  <thead>\n",
              "    <tr style=\"text-align: right;\">\n",
              "      <th></th>\n",
              "      <th>index</th>\n",
              "      <th>Unnamed: 0</th>\n",
              "      <th>airQualityLevel</th>\n",
              "      <th>observationDateTime</th>\n",
              "      <th>deviceStatus</th>\n",
              "      <th>aqiMajorPollutant</th>\n",
              "      <th>id</th>\n",
              "      <th>airQualityIndex</th>\n",
              "      <th>uv.avgOverTime</th>\n",
              "      <th>o3.avgOverTime</th>\n",
              "      <th>...</th>\n",
              "      <th>co2.avgOverTime</th>\n",
              "      <th>pm10.avgOverTime</th>\n",
              "      <th>co.avgOverTime</th>\n",
              "      <th>no2.avgOverTime</th>\n",
              "      <th>airTemperature.avgOverTime</th>\n",
              "      <th>illuminance.avgOverTime</th>\n",
              "      <th>ambientNoise.avgOverTime</th>\n",
              "      <th>so2.avgOverTime</th>\n",
              "      <th>relativeHumidity.avgOverTime</th>\n",
              "      <th>atmosphericPressure.avgOverTime</th>\n",
              "    </tr>\n",
              "  </thead>\n",
              "  <tbody>\n",
              "    <tr>\n",
              "      <th>0</th>\n",
              "      <td>0</td>\n",
              "      <td>0</td>\n",
              "      <td>MODERATE</td>\n",
              "      <td>2021-12-31 23:31:08+05:00</td>\n",
              "      <td>ACTIVE</td>\n",
              "      <td>CO</td>\n",
              "      <td>datakaveri.org/04a15c9960ffda227e9546f3f46e629...</td>\n",
              "      <td>103.0</td>\n",
              "      <td>0.0</td>\n",
              "      <td>29.70</td>\n",
              "      <td>...</td>\n",
              "      <td>0.00</td>\n",
              "      <td>3.78</td>\n",
              "      <td>3.36</td>\n",
              "      <td>51.81</td>\n",
              "      <td>19.91</td>\n",
              "      <td>4.08</td>\n",
              "      <td>78.80</td>\n",
              "      <td>3.78</td>\n",
              "      <td>77.22</td>\n",
              "      <td>0.94</td>\n",
              "    </tr>\n",
              "    <tr>\n",
              "      <th>1</th>\n",
              "      <td>1</td>\n",
              "      <td>1</td>\n",
              "      <td>SEVERE</td>\n",
              "      <td>2021-12-31 23:31:08+05:00</td>\n",
              "      <td>ACTIVE</td>\n",
              "      <td>PM2.5</td>\n",
              "      <td>datakaveri.org/04a15c9960ffda227e9546f3f46e629...</td>\n",
              "      <td>408.0</td>\n",
              "      <td>0.0</td>\n",
              "      <td>0.00</td>\n",
              "      <td>...</td>\n",
              "      <td>675.62</td>\n",
              "      <td>487.34</td>\n",
              "      <td>3.17</td>\n",
              "      <td>58.84</td>\n",
              "      <td>20.79</td>\n",
              "      <td>1.16</td>\n",
              "      <td>62.37</td>\n",
              "      <td>0.21</td>\n",
              "      <td>77.25</td>\n",
              "      <td>0.94</td>\n",
              "    </tr>\n",
              "    <tr>\n",
              "      <th>2</th>\n",
              "      <td>2</td>\n",
              "      <td>2</td>\n",
              "      <td>VERY_POOR</td>\n",
              "      <td>2021-12-31 23:31:09+05:00</td>\n",
              "      <td>ACTIVE</td>\n",
              "      <td>PM2.5</td>\n",
              "      <td>datakaveri.org/04a15c9960ffda227e9546f3f46e629...</td>\n",
              "      <td>366.0</td>\n",
              "      <td>0.0</td>\n",
              "      <td>0.00</td>\n",
              "      <td>...</td>\n",
              "      <td>315.10</td>\n",
              "      <td>335.07</td>\n",
              "      <td>2.37</td>\n",
              "      <td>64.17</td>\n",
              "      <td>20.91</td>\n",
              "      <td>4.51</td>\n",
              "      <td>75.95</td>\n",
              "      <td>3.13</td>\n",
              "      <td>76.85</td>\n",
              "      <td>0.94</td>\n",
              "    </tr>\n",
              "    <tr>\n",
              "      <th>3</th>\n",
              "      <td>3</td>\n",
              "      <td>3</td>\n",
              "      <td>MODERATE</td>\n",
              "      <td>2021-12-31 23:31:09+05:00</td>\n",
              "      <td>ACTIVE</td>\n",
              "      <td>CO</td>\n",
              "      <td>datakaveri.org/04a15c9960ffda227e9546f3f46e629...</td>\n",
              "      <td>104.0</td>\n",
              "      <td>0.0</td>\n",
              "      <td>0.00</td>\n",
              "      <td>...</td>\n",
              "      <td>569.80</td>\n",
              "      <td>0.99</td>\n",
              "      <td>2.30</td>\n",
              "      <td>65.93</td>\n",
              "      <td>20.82</td>\n",
              "      <td>18.08</td>\n",
              "      <td>75.92</td>\n",
              "      <td>0.35</td>\n",
              "      <td>75.40</td>\n",
              "      <td>0.94</td>\n",
              "    </tr>\n",
              "    <tr>\n",
              "      <th>4</th>\n",
              "      <td>4</td>\n",
              "      <td>4</td>\n",
              "      <td>MODERATE</td>\n",
              "      <td>2021-12-31 23:31:09+05:00</td>\n",
              "      <td>ACTIVE</td>\n",
              "      <td>PM2.5</td>\n",
              "      <td>datakaveri.org/04a15c9960ffda227e9546f3f46e629...</td>\n",
              "      <td>198.0</td>\n",
              "      <td>0.0</td>\n",
              "      <td>5.92</td>\n",
              "      <td>...</td>\n",
              "      <td>0.00</td>\n",
              "      <td>117.69</td>\n",
              "      <td>2.18</td>\n",
              "      <td>56.58</td>\n",
              "      <td>21.66</td>\n",
              "      <td>1.67</td>\n",
              "      <td>82.03</td>\n",
              "      <td>1.00</td>\n",
              "      <td>75.50</td>\n",
              "      <td>0.87</td>\n",
              "    </tr>\n",
              "  </tbody>\n",
              "</table>\n",
              "<p>5 rows × 21 columns</p>\n",
              "</div>\n",
              "      <button class=\"colab-df-convert\" onclick=\"convertToInteractive('df-520ff4fa-c983-41b6-9fd5-9c88f12af4be')\"\n",
              "              title=\"Convert this dataframe to an interactive table.\"\n",
              "              style=\"display:none;\">\n",
              "        \n",
              "  <svg xmlns=\"http://www.w3.org/2000/svg\" height=\"24px\"viewBox=\"0 0 24 24\"\n",
              "       width=\"24px\">\n",
              "    <path d=\"M0 0h24v24H0V0z\" fill=\"none\"/>\n",
              "    <path d=\"M18.56 5.44l.94 2.06.94-2.06 2.06-.94-2.06-.94-.94-2.06-.94 2.06-2.06.94zm-11 1L8.5 8.5l.94-2.06 2.06-.94-2.06-.94L8.5 2.5l-.94 2.06-2.06.94zm10 10l.94 2.06.94-2.06 2.06-.94-2.06-.94-.94-2.06-.94 2.06-2.06.94z\"/><path d=\"M17.41 7.96l-1.37-1.37c-.4-.4-.92-.59-1.43-.59-.52 0-1.04.2-1.43.59L10.3 9.45l-7.72 7.72c-.78.78-.78 2.05 0 2.83L4 21.41c.39.39.9.59 1.41.59.51 0 1.02-.2 1.41-.59l7.78-7.78 2.81-2.81c.8-.78.8-2.07 0-2.86zM5.41 20L4 18.59l7.72-7.72 1.47 1.35L5.41 20z\"/>\n",
              "  </svg>\n",
              "      </button>\n",
              "      \n",
              "  <style>\n",
              "    .colab-df-container {\n",
              "      display:flex;\n",
              "      flex-wrap:wrap;\n",
              "      gap: 12px;\n",
              "    }\n",
              "\n",
              "    .colab-df-convert {\n",
              "      background-color: #E8F0FE;\n",
              "      border: none;\n",
              "      border-radius: 50%;\n",
              "      cursor: pointer;\n",
              "      display: none;\n",
              "      fill: #1967D2;\n",
              "      height: 32px;\n",
              "      padding: 0 0 0 0;\n",
              "      width: 32px;\n",
              "    }\n",
              "\n",
              "    .colab-df-convert:hover {\n",
              "      background-color: #E2EBFA;\n",
              "      box-shadow: 0px 1px 2px rgba(60, 64, 67, 0.3), 0px 1px 3px 1px rgba(60, 64, 67, 0.15);\n",
              "      fill: #174EA6;\n",
              "    }\n",
              "\n",
              "    [theme=dark] .colab-df-convert {\n",
              "      background-color: #3B4455;\n",
              "      fill: #D2E3FC;\n",
              "    }\n",
              "\n",
              "    [theme=dark] .colab-df-convert:hover {\n",
              "      background-color: #434B5C;\n",
              "      box-shadow: 0px 1px 3px 1px rgba(0, 0, 0, 0.15);\n",
              "      filter: drop-shadow(0px 1px 2px rgba(0, 0, 0, 0.3));\n",
              "      fill: #FFFFFF;\n",
              "    }\n",
              "  </style>\n",
              "\n",
              "      <script>\n",
              "        const buttonEl =\n",
              "          document.querySelector('#df-520ff4fa-c983-41b6-9fd5-9c88f12af4be button.colab-df-convert');\n",
              "        buttonEl.style.display =\n",
              "          google.colab.kernel.accessAllowed ? 'block' : 'none';\n",
              "\n",
              "        async function convertToInteractive(key) {\n",
              "          const element = document.querySelector('#df-520ff4fa-c983-41b6-9fd5-9c88f12af4be');\n",
              "          const dataTable =\n",
              "            await google.colab.kernel.invokeFunction('convertToInteractive',\n",
              "                                                     [key], {});\n",
              "          if (!dataTable) return;\n",
              "\n",
              "          const docLinkHtml = 'Like what you see? Visit the ' +\n",
              "            '<a target=\"_blank\" href=https://colab.research.google.com/notebooks/data_table.ipynb>data table notebook</a>'\n",
              "            + ' to learn more about interactive tables.';\n",
              "          element.innerHTML = '';\n",
              "          dataTable['output_type'] = 'display_data';\n",
              "          await google.colab.output.renderOutput(dataTable, element);\n",
              "          const docLink = document.createElement('div');\n",
              "          docLink.innerHTML = docLinkHtml;\n",
              "          element.appendChild(docLink);\n",
              "        }\n",
              "      </script>\n",
              "    </div>\n",
              "  </div>\n",
              "  "
            ]
          },
          "metadata": {},
          "execution_count": 34
        }
      ],
      "source": [
        "pune_aqm.head()"
      ]
    }
  ],
  "metadata": {
    "kernelspec": {
      "display_name": "Python 3 (ipykernel)",
      "language": "python",
      "name": "python3"
    },
    "language_info": {
      "codemirror_mode": {
        "name": "ipython",
        "version": 3
      },
      "file_extension": ".py",
      "mimetype": "text/x-python",
      "name": "python",
      "nbconvert_exporter": "python",
      "pygments_lexer": "ipython3",
      "version": "3.9.13"
    },
    "colab": {
      "name": "main.ipynb",
      "provenance": [],
      "collapsed_sections": []
    }
>>>>>>> 456b7181230e724faef2b009d23810d5fd537ebe
  },
  "nbformat": 4,
  "nbformat_minor": 5
}