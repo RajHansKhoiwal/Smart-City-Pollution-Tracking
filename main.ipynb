{
  "cells": [
    {
      "cell_type": "code",
      "execution_count": 16,
      "id": "0bac1b06",
      "metadata": {
        "id": "0bac1b06"
      },
      "outputs": [],
      "source": [
        "import pandas as pd\n",
        "import numpy as np"
      ]
    },
    {
      "cell_type": "code",
      "execution_count": 17,
      "id": "ba423594",
      "metadata": {
        "colab": {
          "base_uri": "https://localhost:8080/"
        },
        "id": "ba423594",
        "outputId": "4ed3ac90-9138-429c-f107-25cf1c82f418"
      },
      "outputs": [
        {
          "output_type": "stream",
          "name": "stderr",
          "text": [
            "/usr/local/lib/python3.7/dist-packages/IPython/core/interactiveshell.py:2882: FutureWarning: The error_bad_lines argument has been deprecated and will be removed in a future version.\n",
            "\n",
            "\n",
            "  exec(code_obj, self.user_global_ns, self.user_ns)\n",
            "b'Skipping line 8323: expected 20 fields, saw 34\\n'\n"
          ]
        }
      ],
      "source": [
        "pune_aqm = pd.read_csv(\"pune-aqm-jan.csv\",  error_bad_lines=False)\n",
        "\n",
        "\n",
        "X = pune_aqm.iloc[:, 7:].values\n",
        "\n",
        "y = pune_aqm.iloc[:, 6].values\n"
      ]
    },
    {
      "cell_type": "code",
      "source": [
        "pune_aqm.head()"
      ],
      "metadata": {
        "colab": {
          "base_uri": "https://localhost:8080/",
          "height": 374
        },
        "id": "n08WKdLCd07t",
        "outputId": "542955d9-e402-491e-cbcb-b83169e39e25"
      },
      "id": "n08WKdLCd07t",
      "execution_count": 18,
      "outputs": [
        {
          "output_type": "execute_result",
          "data": {
            "text/plain": [
              "   Unnamed: 0 airQualityLevel        observationDateTime deviceStatus  \\\n",
              "0           0        MODERATE  2021-12-31 23:31:08+05:00       ACTIVE   \n",
              "1           1          SEVERE  2021-12-31 23:31:08+05:00       ACTIVE   \n",
              "2           2       VERY_POOR  2021-12-31 23:31:09+05:00       ACTIVE   \n",
              "3           3        MODERATE  2021-12-31 23:31:09+05:00       ACTIVE   \n",
              "4           4        MODERATE  2021-12-31 23:31:09+05:00       ACTIVE   \n",
              "\n",
              "  aqiMajorPollutant                                                 id  \\\n",
              "0                CO  datakaveri.org/04a15c9960ffda227e9546f3f46e629...   \n",
              "1             PM2.5  datakaveri.org/04a15c9960ffda227e9546f3f46e629...   \n",
              "2             PM2.5  datakaveri.org/04a15c9960ffda227e9546f3f46e629...   \n",
              "3                CO  datakaveri.org/04a15c9960ffda227e9546f3f46e629...   \n",
              "4             PM2.5  datakaveri.org/04a15c9960ffda227e9546f3f46e629...   \n",
              "\n",
              "   airQualityIndex  uv.avgOverTime  o3.avgOverTime  pm2p5.avgOverTime  \\\n",
              "0            103.0             0.0           29.70               2.96   \n",
              "1            408.0             0.0            0.00             328.16   \n",
              "2            366.0             0.0            0.00             222.11   \n",
              "3            104.0             0.0            0.00               0.79   \n",
              "4            198.0             0.0            5.92              84.03   \n",
              "\n",
              "   co2.avgOverTime  pm10.avgOverTime  co.avgOverTime  no2.avgOverTime  \\\n",
              "0             0.00              3.78            3.36            51.81   \n",
              "1           675.62            487.34            3.17            58.84   \n",
              "2           315.10            335.07            2.37            64.17   \n",
              "3           569.80              0.99            2.30            65.93   \n",
              "4             0.00            117.69            2.18            56.58   \n",
              "\n",
              "   airTemperature.avgOverTime  illuminance.avgOverTime  \\\n",
              "0                       19.91                     4.08   \n",
              "1                       20.79                     1.16   \n",
              "2                       20.91                     4.51   \n",
              "3                       20.82                    18.08   \n",
              "4                       21.66                     1.67   \n",
              "\n",
              "   ambientNoise.avgOverTime  so2.avgOverTime  relativeHumidity.avgOverTime  \\\n",
              "0                     78.80             3.78                         77.22   \n",
              "1                     62.37             0.21                         77.25   \n",
              "2                     75.95             3.13                         76.85   \n",
              "3                     75.92             0.35                         75.40   \n",
              "4                     82.03             1.00                         75.50   \n",
              "\n",
              "   atmosphericPressure.avgOverTime  \n",
              "0                             0.94  \n",
              "1                             0.94  \n",
              "2                             0.94  \n",
              "3                             0.94  \n",
              "4                             0.87  "
            ],
            "text/html": [
              "\n",
              "  <div id=\"df-cce63c4f-e908-4667-ae9d-c43fda83cac2\">\n",
              "    <div class=\"colab-df-container\">\n",
              "      <div>\n",
              "<style scoped>\n",
              "    .dataframe tbody tr th:only-of-type {\n",
              "        vertical-align: middle;\n",
              "    }\n",
              "\n",
              "    .dataframe tbody tr th {\n",
              "        vertical-align: top;\n",
              "    }\n",
              "\n",
              "    .dataframe thead th {\n",
              "        text-align: right;\n",
              "    }\n",
              "</style>\n",
              "<table border=\"1\" class=\"dataframe\">\n",
              "  <thead>\n",
              "    <tr style=\"text-align: right;\">\n",
              "      <th></th>\n",
              "      <th>Unnamed: 0</th>\n",
              "      <th>airQualityLevel</th>\n",
              "      <th>observationDateTime</th>\n",
              "      <th>deviceStatus</th>\n",
              "      <th>aqiMajorPollutant</th>\n",
              "      <th>id</th>\n",
              "      <th>airQualityIndex</th>\n",
              "      <th>uv.avgOverTime</th>\n",
              "      <th>o3.avgOverTime</th>\n",
              "      <th>pm2p5.avgOverTime</th>\n",
              "      <th>co2.avgOverTime</th>\n",
              "      <th>pm10.avgOverTime</th>\n",
              "      <th>co.avgOverTime</th>\n",
              "      <th>no2.avgOverTime</th>\n",
              "      <th>airTemperature.avgOverTime</th>\n",
              "      <th>illuminance.avgOverTime</th>\n",
              "      <th>ambientNoise.avgOverTime</th>\n",
              "      <th>so2.avgOverTime</th>\n",
              "      <th>relativeHumidity.avgOverTime</th>\n",
              "      <th>atmosphericPressure.avgOverTime</th>\n",
              "    </tr>\n",
              "  </thead>\n",
              "  <tbody>\n",
              "    <tr>\n",
              "      <th>0</th>\n",
              "      <td>0</td>\n",
              "      <td>MODERATE</td>\n",
              "      <td>2021-12-31 23:31:08+05:00</td>\n",
              "      <td>ACTIVE</td>\n",
              "      <td>CO</td>\n",
              "      <td>datakaveri.org/04a15c9960ffda227e9546f3f46e629...</td>\n",
              "      <td>103.0</td>\n",
              "      <td>0.0</td>\n",
              "      <td>29.70</td>\n",
              "      <td>2.96</td>\n",
              "      <td>0.00</td>\n",
              "      <td>3.78</td>\n",
              "      <td>3.36</td>\n",
              "      <td>51.81</td>\n",
              "      <td>19.91</td>\n",
              "      <td>4.08</td>\n",
              "      <td>78.80</td>\n",
              "      <td>3.78</td>\n",
              "      <td>77.22</td>\n",
              "      <td>0.94</td>\n",
              "    </tr>\n",
              "    <tr>\n",
              "      <th>1</th>\n",
              "      <td>1</td>\n",
              "      <td>SEVERE</td>\n",
              "      <td>2021-12-31 23:31:08+05:00</td>\n",
              "      <td>ACTIVE</td>\n",
              "      <td>PM2.5</td>\n",
              "      <td>datakaveri.org/04a15c9960ffda227e9546f3f46e629...</td>\n",
              "      <td>408.0</td>\n",
              "      <td>0.0</td>\n",
              "      <td>0.00</td>\n",
              "      <td>328.16</td>\n",
              "      <td>675.62</td>\n",
              "      <td>487.34</td>\n",
              "      <td>3.17</td>\n",
              "      <td>58.84</td>\n",
              "      <td>20.79</td>\n",
              "      <td>1.16</td>\n",
              "      <td>62.37</td>\n",
              "      <td>0.21</td>\n",
              "      <td>77.25</td>\n",
              "      <td>0.94</td>\n",
              "    </tr>\n",
              "    <tr>\n",
              "      <th>2</th>\n",
              "      <td>2</td>\n",
              "      <td>VERY_POOR</td>\n",
              "      <td>2021-12-31 23:31:09+05:00</td>\n",
              "      <td>ACTIVE</td>\n",
              "      <td>PM2.5</td>\n",
              "      <td>datakaveri.org/04a15c9960ffda227e9546f3f46e629...</td>\n",
              "      <td>366.0</td>\n",
              "      <td>0.0</td>\n",
              "      <td>0.00</td>\n",
              "      <td>222.11</td>\n",
              "      <td>315.10</td>\n",
              "      <td>335.07</td>\n",
              "      <td>2.37</td>\n",
              "      <td>64.17</td>\n",
              "      <td>20.91</td>\n",
              "      <td>4.51</td>\n",
              "      <td>75.95</td>\n",
              "      <td>3.13</td>\n",
              "      <td>76.85</td>\n",
              "      <td>0.94</td>\n",
              "    </tr>\n",
              "    <tr>\n",
              "      <th>3</th>\n",
              "      <td>3</td>\n",
              "      <td>MODERATE</td>\n",
              "      <td>2021-12-31 23:31:09+05:00</td>\n",
              "      <td>ACTIVE</td>\n",
              "      <td>CO</td>\n",
              "      <td>datakaveri.org/04a15c9960ffda227e9546f3f46e629...</td>\n",
              "      <td>104.0</td>\n",
              "      <td>0.0</td>\n",
              "      <td>0.00</td>\n",
              "      <td>0.79</td>\n",
              "      <td>569.80</td>\n",
              "      <td>0.99</td>\n",
              "      <td>2.30</td>\n",
              "      <td>65.93</td>\n",
              "      <td>20.82</td>\n",
              "      <td>18.08</td>\n",
              "      <td>75.92</td>\n",
              "      <td>0.35</td>\n",
              "      <td>75.40</td>\n",
              "      <td>0.94</td>\n",
              "    </tr>\n",
              "    <tr>\n",
              "      <th>4</th>\n",
              "      <td>4</td>\n",
              "      <td>MODERATE</td>\n",
              "      <td>2021-12-31 23:31:09+05:00</td>\n",
              "      <td>ACTIVE</td>\n",
              "      <td>PM2.5</td>\n",
              "      <td>datakaveri.org/04a15c9960ffda227e9546f3f46e629...</td>\n",
              "      <td>198.0</td>\n",
              "      <td>0.0</td>\n",
              "      <td>5.92</td>\n",
              "      <td>84.03</td>\n",
              "      <td>0.00</td>\n",
              "      <td>117.69</td>\n",
              "      <td>2.18</td>\n",
              "      <td>56.58</td>\n",
              "      <td>21.66</td>\n",
              "      <td>1.67</td>\n",
              "      <td>82.03</td>\n",
              "      <td>1.00</td>\n",
              "      <td>75.50</td>\n",
              "      <td>0.87</td>\n",
              "    </tr>\n",
              "  </tbody>\n",
              "</table>\n",
              "</div>\n",
              "      <button class=\"colab-df-convert\" onclick=\"convertToInteractive('df-cce63c4f-e908-4667-ae9d-c43fda83cac2')\"\n",
              "              title=\"Convert this dataframe to an interactive table.\"\n",
              "              style=\"display:none;\">\n",
              "        \n",
              "  <svg xmlns=\"http://www.w3.org/2000/svg\" height=\"24px\"viewBox=\"0 0 24 24\"\n",
              "       width=\"24px\">\n",
              "    <path d=\"M0 0h24v24H0V0z\" fill=\"none\"/>\n",
              "    <path d=\"M18.56 5.44l.94 2.06.94-2.06 2.06-.94-2.06-.94-.94-2.06-.94 2.06-2.06.94zm-11 1L8.5 8.5l.94-2.06 2.06-.94-2.06-.94L8.5 2.5l-.94 2.06-2.06.94zm10 10l.94 2.06.94-2.06 2.06-.94-2.06-.94-.94-2.06-.94 2.06-2.06.94z\"/><path d=\"M17.41 7.96l-1.37-1.37c-.4-.4-.92-.59-1.43-.59-.52 0-1.04.2-1.43.59L10.3 9.45l-7.72 7.72c-.78.78-.78 2.05 0 2.83L4 21.41c.39.39.9.59 1.41.59.51 0 1.02-.2 1.41-.59l7.78-7.78 2.81-2.81c.8-.78.8-2.07 0-2.86zM5.41 20L4 18.59l7.72-7.72 1.47 1.35L5.41 20z\"/>\n",
              "  </svg>\n",
              "      </button>\n",
              "      \n",
              "  <style>\n",
              "    .colab-df-container {\n",
              "      display:flex;\n",
              "      flex-wrap:wrap;\n",
              "      gap: 12px;\n",
              "    }\n",
              "\n",
              "    .colab-df-convert {\n",
              "      background-color: #E8F0FE;\n",
              "      border: none;\n",
              "      border-radius: 50%;\n",
              "      cursor: pointer;\n",
              "      display: none;\n",
              "      fill: #1967D2;\n",
              "      height: 32px;\n",
              "      padding: 0 0 0 0;\n",
              "      width: 32px;\n",
              "    }\n",
              "\n",
              "    .colab-df-convert:hover {\n",
              "      background-color: #E2EBFA;\n",
              "      box-shadow: 0px 1px 2px rgba(60, 64, 67, 0.3), 0px 1px 3px 1px rgba(60, 64, 67, 0.15);\n",
              "      fill: #174EA6;\n",
              "    }\n",
              "\n",
              "    [theme=dark] .colab-df-convert {\n",
              "      background-color: #3B4455;\n",
              "      fill: #D2E3FC;\n",
              "    }\n",
              "\n",
              "    [theme=dark] .colab-df-convert:hover {\n",
              "      background-color: #434B5C;\n",
              "      box-shadow: 0px 1px 3px 1px rgba(0, 0, 0, 0.15);\n",
              "      filter: drop-shadow(0px 1px 2px rgba(0, 0, 0, 0.3));\n",
              "      fill: #FFFFFF;\n",
              "    }\n",
              "  </style>\n",
              "\n",
              "      <script>\n",
              "        const buttonEl =\n",
              "          document.querySelector('#df-cce63c4f-e908-4667-ae9d-c43fda83cac2 button.colab-df-convert');\n",
              "        buttonEl.style.display =\n",
              "          google.colab.kernel.accessAllowed ? 'block' : 'none';\n",
              "\n",
              "        async function convertToInteractive(key) {\n",
              "          const element = document.querySelector('#df-cce63c4f-e908-4667-ae9d-c43fda83cac2');\n",
              "          const dataTable =\n",
              "            await google.colab.kernel.invokeFunction('convertToInteractive',\n",
              "                                                     [key], {});\n",
              "          if (!dataTable) return;\n",
              "\n",
              "          const docLinkHtml = 'Like what you see? Visit the ' +\n",
              "            '<a target=\"_blank\" href=https://colab.research.google.com/notebooks/data_table.ipynb>data table notebook</a>'\n",
              "            + ' to learn more about interactive tables.';\n",
              "          element.innerHTML = '';\n",
              "          dataTable['output_type'] = 'display_data';\n",
              "          await google.colab.output.renderOutput(dataTable, element);\n",
              "          const docLink = document.createElement('div');\n",
              "          docLink.innerHTML = docLinkHtml;\n",
              "          element.appendChild(docLink);\n",
              "        }\n",
              "      </script>\n",
              "    </div>\n",
              "  </div>\n",
              "  "
            ]
          },
          "metadata": {},
          "execution_count": 18
        }
      ]
    },
    {
      "cell_type": "markdown",
      "source": [
        "# Taking Care of Missing Data"
      ],
      "metadata": {
        "id": "H_nNZhmBZmg_"
      },
      "id": "H_nNZhmBZmg_"
    },
    {
      "cell_type": "code",
      "source": [
        "from sklearn.impute import SimpleImputer\n",
        "\n",
        "imputer = SimpleImputer(missing_values = np.nan, strategy = 'mean')\n",
        "imputer.fit(X[:, 0:13])\n",
        "X[:, 0:13] = imputer.transform(X[:, 0:13]) "
      ],
      "metadata": {
        "id": "-iYiXluIZukT"
      },
      "id": "-iYiXluIZukT",
      "execution_count": 19,
      "outputs": []
    },
    {
      "cell_type": "markdown",
      "source": [
        "#Splitting Data into training and test set"
      ],
      "metadata": {
        "id": "oRcfbg69amM5"
      },
      "id": "oRcfbg69amM5"
    },
    {
      "cell_type": "code",
      "source": [
        "from sklearn.model_selection import train_test_split\n",
        "X_train, X_test, y_train, y_test = train_test_split(X, y, test_size = 0.2, random_state = 1)"
      ],
      "metadata": {
        "id": "gX_a-G1OaySI"
      },
      "id": "gX_a-G1OaySI",
      "execution_count": 24,
      "outputs": []
    },
    {
      "cell_type": "markdown",
      "source": [
        "#Feature Scaling"
      ],
      "metadata": {
        "id": "_6nkaJyybBqx"
      },
      "id": "_6nkaJyybBqx"
    },
    {
      "cell_type": "code",
      "source": [
        "from sklearn.preprocessing import StandardScaler\n",
        "sc = StandardScaler()\n",
        "X_train[:, :] = sc.fit_transform(X_train[:, :])\n",
        "X_test[:, :] = sc.transform(X_test[:, :])"
      ],
      "metadata": {
        "id": "_S7u06XmbD55"
      },
      "id": "_S7u06XmbD55",
      "execution_count": 25,
      "outputs": []
    },
    {
      "cell_type": "code",
      "source": [
        "print(X_test)"
      ],
      "metadata": {
        "colab": {
          "base_uri": "https://localhost:8080/"
        },
        "id": "9mJgcavqbSly",
        "outputId": "69989017-089b-4998-b6a6-82fec0099cb3"
      },
      "id": "9mJgcavqbSly",
      "execution_count": 26,
      "outputs": [
        {
          "output_type": "stream",
          "name": "stdout",
          "text": [
            "[[-4.26879340e-01 -6.63383343e-01  7.15870763e-02 ...  1.99739808e+00\n",
            "   2.51334744e-01  1.00326749e-01]\n",
            " [-4.26879340e-01 -2.82313476e-01 -1.18645103e-03 ... -7.40549633e-01\n",
            "  -6.86159547e-01  1.00326749e-01]\n",
            " [-4.26879340e-01 -9.75523281e-02  3.06797021e+00 ...  2.59425174e+00\n",
            "   9.49912687e-01 -3.60979974e-01]\n",
            " ...\n",
            " [ 1.21271863e+00 -1.04616396e+00 -2.93756108e-01 ... -6.26863223e-01\n",
            "  -1.43453977e+00  8.06540409e-03]\n",
            " [ 2.46518930e+00 -4.76483756e-01 -7.78593124e-01 ... -7.40549633e-01\n",
            "  -4.81566392e-01  8.06540409e-03]\n",
            " [ 3.60379901e+00  1.58711008e+00  9.56410446e-01 ... -1.91065316e-01\n",
            "  -4.12920005e-01  1.00326749e-01]]\n"
          ]
        }
      ]
    },
    {
      "cell_type": "code",
      "source": [
        "print(y_test)"
      ],
      "metadata": {
        "colab": {
          "base_uri": "https://localhost:8080/"
        },
        "id": "oFnX1rB1bX6Z",
        "outputId": "d925d5be-3ecf-4989-f8c2-468dbcdce7c9"
      },
      "id": "oFnX1rB1bX6Z",
      "execution_count": 27,
      "outputs": [
        {
          "output_type": "stream",
          "name": "stdout",
          "text": [
            "[302. 135. 405. ... 209.  77. 354.]\n"
          ]
        }
      ]
    },
    {
      "cell_type": "markdown",
      "source": [
        ""
      ],
      "metadata": {
        "id": "A4pO-0IHbP0T"
      },
      "id": "A4pO-0IHbP0T"
    },
    {
      "cell_type": "code",
      "execution_count": 28,
      "id": "28942120",
      "metadata": {
        "scrolled": true,
        "colab": {
          "base_uri": "https://localhost:8080/"
        },
        "id": "28942120",
        "outputId": "0fdf9fe8-7699-49a7-ac90-dcd8bf0fb85b"
      },
      "outputs": [
        {
          "output_type": "execute_result",
          "data": {
            "text/plain": [
              "Index(['Unnamed: 0', 'airQualityLevel', 'observationDateTime', 'deviceStatus',\n",
              "       'aqiMajorPollutant', 'id', 'airQualityIndex', 'uv.avgOverTime',\n",
              "       'o3.avgOverTime', 'pm2p5.avgOverTime', 'co2.avgOverTime',\n",
              "       'pm10.avgOverTime', 'co.avgOverTime', 'no2.avgOverTime',\n",
              "       'airTemperature.avgOverTime', 'illuminance.avgOverTime',\n",
              "       'ambientNoise.avgOverTime', 'so2.avgOverTime',\n",
              "       'relativeHumidity.avgOverTime', 'atmosphericPressure.avgOverTime'],\n",
              "      dtype='object')"
            ]
          },
          "metadata": {},
          "execution_count": 28
        }
      ],
      "source": [
        "# getting the columns\n",
        "pune_aqm.columns"
      ]
    },
    {
      "cell_type": "markdown",
      "id": "f10e1efc",
      "metadata": {
        "id": "f10e1efc"
      },
      "source": [
        "## Cleaning the Data"
      ]
    },
    {
      "cell_type": "code",
      "execution_count": 29,
      "id": "d3a7c908",
      "metadata": {
        "colab": {
          "base_uri": "https://localhost:8080/",
          "height": 131
        },
        "id": "d3a7c908",
        "outputId": "d762b112-09af-4e0a-ae90-e3d435bbcb72"
      },
      "outputs": [
        {
          "output_type": "execute_result",
          "data": {
            "text/plain": [
              "Empty DataFrame\n",
              "Columns: [Unnamed: 0, airQualityLevel, observationDateTime, deviceStatus, aqiMajorPollutant, id, airQualityIndex, uv.avgOverTime, o3.avgOverTime, pm2p5.avgOverTime, co2.avgOverTime, pm10.avgOverTime, co.avgOverTime, no2.avgOverTime, airTemperature.avgOverTime, illuminance.avgOverTime, ambientNoise.avgOverTime, so2.avgOverTime, relativeHumidity.avgOverTime, atmosphericPressure.avgOverTime]\n",
              "Index: []"
            ],
            "text/html": [
              "\n",
              "  <div id=\"df-531a5233-ee81-482f-8e2d-50e1b1eb529d\">\n",
              "    <div class=\"colab-df-container\">\n",
              "      <div>\n",
              "<style scoped>\n",
              "    .dataframe tbody tr th:only-of-type {\n",
              "        vertical-align: middle;\n",
              "    }\n",
              "\n",
              "    .dataframe tbody tr th {\n",
              "        vertical-align: top;\n",
              "    }\n",
              "\n",
              "    .dataframe thead th {\n",
              "        text-align: right;\n",
              "    }\n",
              "</style>\n",
              "<table border=\"1\" class=\"dataframe\">\n",
              "  <thead>\n",
              "    <tr style=\"text-align: right;\">\n",
              "      <th></th>\n",
              "      <th>Unnamed: 0</th>\n",
              "      <th>airQualityLevel</th>\n",
              "      <th>observationDateTime</th>\n",
              "      <th>deviceStatus</th>\n",
              "      <th>aqiMajorPollutant</th>\n",
              "      <th>id</th>\n",
              "      <th>airQualityIndex</th>\n",
              "      <th>uv.avgOverTime</th>\n",
              "      <th>o3.avgOverTime</th>\n",
              "      <th>pm2p5.avgOverTime</th>\n",
              "      <th>co2.avgOverTime</th>\n",
              "      <th>pm10.avgOverTime</th>\n",
              "      <th>co.avgOverTime</th>\n",
              "      <th>no2.avgOverTime</th>\n",
              "      <th>airTemperature.avgOverTime</th>\n",
              "      <th>illuminance.avgOverTime</th>\n",
              "      <th>ambientNoise.avgOverTime</th>\n",
              "      <th>so2.avgOverTime</th>\n",
              "      <th>relativeHumidity.avgOverTime</th>\n",
              "      <th>atmosphericPressure.avgOverTime</th>\n",
              "    </tr>\n",
              "  </thead>\n",
              "  <tbody>\n",
              "  </tbody>\n",
              "</table>\n",
              "</div>\n",
              "      <button class=\"colab-df-convert\" onclick=\"convertToInteractive('df-531a5233-ee81-482f-8e2d-50e1b1eb529d')\"\n",
              "              title=\"Convert this dataframe to an interactive table.\"\n",
              "              style=\"display:none;\">\n",
              "        \n",
              "  <svg xmlns=\"http://www.w3.org/2000/svg\" height=\"24px\"viewBox=\"0 0 24 24\"\n",
              "       width=\"24px\">\n",
              "    <path d=\"M0 0h24v24H0V0z\" fill=\"none\"/>\n",
              "    <path d=\"M18.56 5.44l.94 2.06.94-2.06 2.06-.94-2.06-.94-.94-2.06-.94 2.06-2.06.94zm-11 1L8.5 8.5l.94-2.06 2.06-.94-2.06-.94L8.5 2.5l-.94 2.06-2.06.94zm10 10l.94 2.06.94-2.06 2.06-.94-2.06-.94-.94-2.06-.94 2.06-2.06.94z\"/><path d=\"M17.41 7.96l-1.37-1.37c-.4-.4-.92-.59-1.43-.59-.52 0-1.04.2-1.43.59L10.3 9.45l-7.72 7.72c-.78.78-.78 2.05 0 2.83L4 21.41c.39.39.9.59 1.41.59.51 0 1.02-.2 1.41-.59l7.78-7.78 2.81-2.81c.8-.78.8-2.07 0-2.86zM5.41 20L4 18.59l7.72-7.72 1.47 1.35L5.41 20z\"/>\n",
              "  </svg>\n",
              "      </button>\n",
              "      \n",
              "  <style>\n",
              "    .colab-df-container {\n",
              "      display:flex;\n",
              "      flex-wrap:wrap;\n",
              "      gap: 12px;\n",
              "    }\n",
              "\n",
              "    .colab-df-convert {\n",
              "      background-color: #E8F0FE;\n",
              "      border: none;\n",
              "      border-radius: 50%;\n",
              "      cursor: pointer;\n",
              "      display: none;\n",
              "      fill: #1967D2;\n",
              "      height: 32px;\n",
              "      padding: 0 0 0 0;\n",
              "      width: 32px;\n",
              "    }\n",
              "\n",
              "    .colab-df-convert:hover {\n",
              "      background-color: #E2EBFA;\n",
              "      box-shadow: 0px 1px 2px rgba(60, 64, 67, 0.3), 0px 1px 3px 1px rgba(60, 64, 67, 0.15);\n",
              "      fill: #174EA6;\n",
              "    }\n",
              "\n",
              "    [theme=dark] .colab-df-convert {\n",
              "      background-color: #3B4455;\n",
              "      fill: #D2E3FC;\n",
              "    }\n",
              "\n",
              "    [theme=dark] .colab-df-convert:hover {\n",
              "      background-color: #434B5C;\n",
              "      box-shadow: 0px 1px 3px 1px rgba(0, 0, 0, 0.15);\n",
              "      filter: drop-shadow(0px 1px 2px rgba(0, 0, 0, 0.3));\n",
              "      fill: #FFFFFF;\n",
              "    }\n",
              "  </style>\n",
              "\n",
              "      <script>\n",
              "        const buttonEl =\n",
              "          document.querySelector('#df-531a5233-ee81-482f-8e2d-50e1b1eb529d button.colab-df-convert');\n",
              "        buttonEl.style.display =\n",
              "          google.colab.kernel.accessAllowed ? 'block' : 'none';\n",
              "\n",
              "        async function convertToInteractive(key) {\n",
              "          const element = document.querySelector('#df-531a5233-ee81-482f-8e2d-50e1b1eb529d');\n",
              "          const dataTable =\n",
              "            await google.colab.kernel.invokeFunction('convertToInteractive',\n",
              "                                                     [key], {});\n",
              "          if (!dataTable) return;\n",
              "\n",
              "          const docLinkHtml = 'Like what you see? Visit the ' +\n",
              "            '<a target=\"_blank\" href=https://colab.research.google.com/notebooks/data_table.ipynb>data table notebook</a>'\n",
              "            + ' to learn more about interactive tables.';\n",
              "          element.innerHTML = '';\n",
              "          dataTable['output_type'] = 'display_data';\n",
              "          await google.colab.output.renderOutput(dataTable, element);\n",
              "          const docLink = document.createElement('div');\n",
              "          docLink.innerHTML = docLinkHtml;\n",
              "          element.appendChild(docLink);\n",
              "        }\n",
              "      </script>\n",
              "    </div>\n",
              "  </div>\n",
              "  "
            ]
          },
          "metadata": {},
          "execution_count": 29
        }
      ],
      "source": [
        "pune_aqm[pd.isnull(pune_aqm[\"airQualityIndex\"])]"
      ]
    },
    {
      "cell_type": "code",
      "execution_count": 30,
      "id": "bdeedafc",
      "metadata": {
        "id": "bdeedafc"
      },
      "outputs": [],
      "source": [
        "pune_aqm[\"observationDateTime\"]\n",
        "pune_aqm['observationDateTime'] =  pd.to_datetime(pune_aqm['observationDateTime'])"
      ]
    },
    {
      "cell_type": "code",
      "execution_count": 31,
      "id": "3fccf73a",
      "metadata": {
        "colab": {
          "base_uri": "https://localhost:8080/"
        },
        "id": "3fccf73a",
        "outputId": "15ead6e8-22fd-45e1-ae80-331c3250e1ae"
      },
      "outputs": [
        {
          "output_type": "execute_result",
          "data": {
            "text/plain": [
              "0        2021-12-31 23:31:08+05:00\n",
              "1        2021-12-31 23:31:08+05:00\n",
              "2        2021-12-31 23:31:09+05:00\n",
              "3        2021-12-31 23:31:09+05:00\n",
              "4        2021-12-31 23:31:09+05:00\n",
              "                    ...           \n",
              "117658   2022-01-30 23:16:32+05:00\n",
              "117659   2022-01-30 23:16:32+05:00\n",
              "117660   2022-01-30 23:16:32+05:00\n",
              "117661   2022-01-30 23:16:32+05:00\n",
              "117662   2022-01-30 23:16:32+05:00\n",
              "Name: observationDateTime, Length: 117663, dtype: datetime64[ns, pytz.FixedOffset(300)]"
            ]
          },
          "metadata": {},
          "execution_count": 31
        }
      ],
      "source": [
        "pune_aqm[\"observationDateTime\"]\n"
      ]
    },
    {
      "cell_type": "code",
      "execution_count": 32,
      "id": "289c9dfa",
      "metadata": {
        "id": "289c9dfa"
      },
      "outputs": [],
      "source": [
        "pune_aqm.dropna(inplace=True)\n",
        "pune_aqm.reset_index(inplace=True)"
      ]
    },
    {
      "cell_type": "code",
      "execution_count": 33,
      "id": "39d73d9d",
      "metadata": {
        "colab": {
          "base_uri": "https://localhost:8080/"
        },
        "id": "39d73d9d",
        "outputId": "3b846d72-4c88-4383-e5d6-07837004f117"
      },
      "outputs": [
        {
          "output_type": "execute_result",
          "data": {
            "text/plain": [
              "0"
            ]
          },
          "metadata": {},
          "execution_count": 33
        }
      ],
      "source": [
        "pune_aqm.isnull().sum().sum()"
      ]
    },
    {
      "cell_type": "markdown",
      "id": "110ab4d8",
      "metadata": {
        "id": "110ab4d8"
      },
      "source": [
        "### Answering the question"
      ]
    },
    {
      "cell_type": "markdown",
      "id": "e8117c8e",
      "metadata": {
        "id": "e8117c8e"
      },
      "source": [
        "#### Specify major pollutant in the city"
      ]
    },
    {
      "cell_type": "code",
      "execution_count": 34,
      "id": "f067eb4b",
      "metadata": {
        "colab": {
          "base_uri": "https://localhost:8080/",
          "height": 404
        },
        "id": "f067eb4b",
        "outputId": "e102b23b-f0ef-441e-e3c9-02d0b42677c0"
      },
      "outputs": [
        {
          "output_type": "execute_result",
          "data": {
            "text/plain": [
              "   index  Unnamed: 0 airQualityLevel       observationDateTime deviceStatus  \\\n",
              "0      0           0        MODERATE 2021-12-31 23:31:08+05:00       ACTIVE   \n",
              "1      1           1          SEVERE 2021-12-31 23:31:08+05:00       ACTIVE   \n",
              "2      2           2       VERY_POOR 2021-12-31 23:31:09+05:00       ACTIVE   \n",
              "3      3           3        MODERATE 2021-12-31 23:31:09+05:00       ACTIVE   \n",
              "4      4           4        MODERATE 2021-12-31 23:31:09+05:00       ACTIVE   \n",
              "\n",
              "  aqiMajorPollutant                                                 id  \\\n",
              "0                CO  datakaveri.org/04a15c9960ffda227e9546f3f46e629...   \n",
              "1             PM2.5  datakaveri.org/04a15c9960ffda227e9546f3f46e629...   \n",
              "2             PM2.5  datakaveri.org/04a15c9960ffda227e9546f3f46e629...   \n",
              "3                CO  datakaveri.org/04a15c9960ffda227e9546f3f46e629...   \n",
              "4             PM2.5  datakaveri.org/04a15c9960ffda227e9546f3f46e629...   \n",
              "\n",
              "   airQualityIndex  uv.avgOverTime  o3.avgOverTime  ...  co2.avgOverTime  \\\n",
              "0            103.0             0.0           29.70  ...             0.00   \n",
              "1            408.0             0.0            0.00  ...           675.62   \n",
              "2            366.0             0.0            0.00  ...           315.10   \n",
              "3            104.0             0.0            0.00  ...           569.80   \n",
              "4            198.0             0.0            5.92  ...             0.00   \n",
              "\n",
              "   pm10.avgOverTime  co.avgOverTime  no2.avgOverTime  \\\n",
              "0              3.78            3.36            51.81   \n",
              "1            487.34            3.17            58.84   \n",
              "2            335.07            2.37            64.17   \n",
              "3              0.99            2.30            65.93   \n",
              "4            117.69            2.18            56.58   \n",
              "\n",
              "   airTemperature.avgOverTime  illuminance.avgOverTime  \\\n",
              "0                       19.91                     4.08   \n",
              "1                       20.79                     1.16   \n",
              "2                       20.91                     4.51   \n",
              "3                       20.82                    18.08   \n",
              "4                       21.66                     1.67   \n",
              "\n",
              "   ambientNoise.avgOverTime  so2.avgOverTime  relativeHumidity.avgOverTime  \\\n",
              "0                     78.80             3.78                         77.22   \n",
              "1                     62.37             0.21                         77.25   \n",
              "2                     75.95             3.13                         76.85   \n",
              "3                     75.92             0.35                         75.40   \n",
              "4                     82.03             1.00                         75.50   \n",
              "\n",
              "   atmosphericPressure.avgOverTime  \n",
              "0                             0.94  \n",
              "1                             0.94  \n",
              "2                             0.94  \n",
              "3                             0.94  \n",
              "4                             0.87  \n",
              "\n",
              "[5 rows x 21 columns]"
            ],
            "text/html": [
              "\n",
              "  <div id=\"df-520ff4fa-c983-41b6-9fd5-9c88f12af4be\">\n",
              "    <div class=\"colab-df-container\">\n",
              "      <div>\n",
              "<style scoped>\n",
              "    .dataframe tbody tr th:only-of-type {\n",
              "        vertical-align: middle;\n",
              "    }\n",
              "\n",
              "    .dataframe tbody tr th {\n",
              "        vertical-align: top;\n",
              "    }\n",
              "\n",
              "    .dataframe thead th {\n",
              "        text-align: right;\n",
              "    }\n",
              "</style>\n",
              "<table border=\"1\" class=\"dataframe\">\n",
              "  <thead>\n",
              "    <tr style=\"text-align: right;\">\n",
              "      <th></th>\n",
              "      <th>index</th>\n",
              "      <th>Unnamed: 0</th>\n",
              "      <th>airQualityLevel</th>\n",
              "      <th>observationDateTime</th>\n",
              "      <th>deviceStatus</th>\n",
              "      <th>aqiMajorPollutant</th>\n",
              "      <th>id</th>\n",
              "      <th>airQualityIndex</th>\n",
              "      <th>uv.avgOverTime</th>\n",
              "      <th>o3.avgOverTime</th>\n",
              "      <th>...</th>\n",
              "      <th>co2.avgOverTime</th>\n",
              "      <th>pm10.avgOverTime</th>\n",
              "      <th>co.avgOverTime</th>\n",
              "      <th>no2.avgOverTime</th>\n",
              "      <th>airTemperature.avgOverTime</th>\n",
              "      <th>illuminance.avgOverTime</th>\n",
              "      <th>ambientNoise.avgOverTime</th>\n",
              "      <th>so2.avgOverTime</th>\n",
              "      <th>relativeHumidity.avgOverTime</th>\n",
              "      <th>atmosphericPressure.avgOverTime</th>\n",
              "    </tr>\n",
              "  </thead>\n",
              "  <tbody>\n",
              "    <tr>\n",
              "      <th>0</th>\n",
              "      <td>0</td>\n",
              "      <td>0</td>\n",
              "      <td>MODERATE</td>\n",
              "      <td>2021-12-31 23:31:08+05:00</td>\n",
              "      <td>ACTIVE</td>\n",
              "      <td>CO</td>\n",
              "      <td>datakaveri.org/04a15c9960ffda227e9546f3f46e629...</td>\n",
              "      <td>103.0</td>\n",
              "      <td>0.0</td>\n",
              "      <td>29.70</td>\n",
              "      <td>...</td>\n",
              "      <td>0.00</td>\n",
              "      <td>3.78</td>\n",
              "      <td>3.36</td>\n",
              "      <td>51.81</td>\n",
              "      <td>19.91</td>\n",
              "      <td>4.08</td>\n",
              "      <td>78.80</td>\n",
              "      <td>3.78</td>\n",
              "      <td>77.22</td>\n",
              "      <td>0.94</td>\n",
              "    </tr>\n",
              "    <tr>\n",
              "      <th>1</th>\n",
              "      <td>1</td>\n",
              "      <td>1</td>\n",
              "      <td>SEVERE</td>\n",
              "      <td>2021-12-31 23:31:08+05:00</td>\n",
              "      <td>ACTIVE</td>\n",
              "      <td>PM2.5</td>\n",
              "      <td>datakaveri.org/04a15c9960ffda227e9546f3f46e629...</td>\n",
              "      <td>408.0</td>\n",
              "      <td>0.0</td>\n",
              "      <td>0.00</td>\n",
              "      <td>...</td>\n",
              "      <td>675.62</td>\n",
              "      <td>487.34</td>\n",
              "      <td>3.17</td>\n",
              "      <td>58.84</td>\n",
              "      <td>20.79</td>\n",
              "      <td>1.16</td>\n",
              "      <td>62.37</td>\n",
              "      <td>0.21</td>\n",
              "      <td>77.25</td>\n",
              "      <td>0.94</td>\n",
              "    </tr>\n",
              "    <tr>\n",
              "      <th>2</th>\n",
              "      <td>2</td>\n",
              "      <td>2</td>\n",
              "      <td>VERY_POOR</td>\n",
              "      <td>2021-12-31 23:31:09+05:00</td>\n",
              "      <td>ACTIVE</td>\n",
              "      <td>PM2.5</td>\n",
              "      <td>datakaveri.org/04a15c9960ffda227e9546f3f46e629...</td>\n",
              "      <td>366.0</td>\n",
              "      <td>0.0</td>\n",
              "      <td>0.00</td>\n",
              "      <td>...</td>\n",
              "      <td>315.10</td>\n",
              "      <td>335.07</td>\n",
              "      <td>2.37</td>\n",
              "      <td>64.17</td>\n",
              "      <td>20.91</td>\n",
              "      <td>4.51</td>\n",
              "      <td>75.95</td>\n",
              "      <td>3.13</td>\n",
              "      <td>76.85</td>\n",
              "      <td>0.94</td>\n",
              "    </tr>\n",
              "    <tr>\n",
              "      <th>3</th>\n",
              "      <td>3</td>\n",
              "      <td>3</td>\n",
              "      <td>MODERATE</td>\n",
              "      <td>2021-12-31 23:31:09+05:00</td>\n",
              "      <td>ACTIVE</td>\n",
              "      <td>CO</td>\n",
              "      <td>datakaveri.org/04a15c9960ffda227e9546f3f46e629...</td>\n",
              "      <td>104.0</td>\n",
              "      <td>0.0</td>\n",
              "      <td>0.00</td>\n",
              "      <td>...</td>\n",
              "      <td>569.80</td>\n",
              "      <td>0.99</td>\n",
              "      <td>2.30</td>\n",
              "      <td>65.93</td>\n",
              "      <td>20.82</td>\n",
              "      <td>18.08</td>\n",
              "      <td>75.92</td>\n",
              "      <td>0.35</td>\n",
              "      <td>75.40</td>\n",
              "      <td>0.94</td>\n",
              "    </tr>\n",
              "    <tr>\n",
              "      <th>4</th>\n",
              "      <td>4</td>\n",
              "      <td>4</td>\n",
              "      <td>MODERATE</td>\n",
              "      <td>2021-12-31 23:31:09+05:00</td>\n",
              "      <td>ACTIVE</td>\n",
              "      <td>PM2.5</td>\n",
              "      <td>datakaveri.org/04a15c9960ffda227e9546f3f46e629...</td>\n",
              "      <td>198.0</td>\n",
              "      <td>0.0</td>\n",
              "      <td>5.92</td>\n",
              "      <td>...</td>\n",
              "      <td>0.00</td>\n",
              "      <td>117.69</td>\n",
              "      <td>2.18</td>\n",
              "      <td>56.58</td>\n",
              "      <td>21.66</td>\n",
              "      <td>1.67</td>\n",
              "      <td>82.03</td>\n",
              "      <td>1.00</td>\n",
              "      <td>75.50</td>\n",
              "      <td>0.87</td>\n",
              "    </tr>\n",
              "  </tbody>\n",
              "</table>\n",
              "<p>5 rows × 21 columns</p>\n",
              "</div>\n",
              "      <button class=\"colab-df-convert\" onclick=\"convertToInteractive('df-520ff4fa-c983-41b6-9fd5-9c88f12af4be')\"\n",
              "              title=\"Convert this dataframe to an interactive table.\"\n",
              "              style=\"display:none;\">\n",
              "        \n",
              "  <svg xmlns=\"http://www.w3.org/2000/svg\" height=\"24px\"viewBox=\"0 0 24 24\"\n",
              "       width=\"24px\">\n",
              "    <path d=\"M0 0h24v24H0V0z\" fill=\"none\"/>\n",
              "    <path d=\"M18.56 5.44l.94 2.06.94-2.06 2.06-.94-2.06-.94-.94-2.06-.94 2.06-2.06.94zm-11 1L8.5 8.5l.94-2.06 2.06-.94-2.06-.94L8.5 2.5l-.94 2.06-2.06.94zm10 10l.94 2.06.94-2.06 2.06-.94-2.06-.94-.94-2.06-.94 2.06-2.06.94z\"/><path d=\"M17.41 7.96l-1.37-1.37c-.4-.4-.92-.59-1.43-.59-.52 0-1.04.2-1.43.59L10.3 9.45l-7.72 7.72c-.78.78-.78 2.05 0 2.83L4 21.41c.39.39.9.59 1.41.59.51 0 1.02-.2 1.41-.59l7.78-7.78 2.81-2.81c.8-.78.8-2.07 0-2.86zM5.41 20L4 18.59l7.72-7.72 1.47 1.35L5.41 20z\"/>\n",
              "  </svg>\n",
              "      </button>\n",
              "      \n",
              "  <style>\n",
              "    .colab-df-container {\n",
              "      display:flex;\n",
              "      flex-wrap:wrap;\n",
              "      gap: 12px;\n",
              "    }\n",
              "\n",
              "    .colab-df-convert {\n",
              "      background-color: #E8F0FE;\n",
              "      border: none;\n",
              "      border-radius: 50%;\n",
              "      cursor: pointer;\n",
              "      display: none;\n",
              "      fill: #1967D2;\n",
              "      height: 32px;\n",
              "      padding: 0 0 0 0;\n",
              "      width: 32px;\n",
              "    }\n",
              "\n",
              "    .colab-df-convert:hover {\n",
              "      background-color: #E2EBFA;\n",
              "      box-shadow: 0px 1px 2px rgba(60, 64, 67, 0.3), 0px 1px 3px 1px rgba(60, 64, 67, 0.15);\n",
              "      fill: #174EA6;\n",
              "    }\n",
              "\n",
              "    [theme=dark] .colab-df-convert {\n",
              "      background-color: #3B4455;\n",
              "      fill: #D2E3FC;\n",
              "    }\n",
              "\n",
              "    [theme=dark] .colab-df-convert:hover {\n",
              "      background-color: #434B5C;\n",
              "      box-shadow: 0px 1px 3px 1px rgba(0, 0, 0, 0.15);\n",
              "      filter: drop-shadow(0px 1px 2px rgba(0, 0, 0, 0.3));\n",
              "      fill: #FFFFFF;\n",
              "    }\n",
              "  </style>\n",
              "\n",
              "      <script>\n",
              "        const buttonEl =\n",
              "          document.querySelector('#df-520ff4fa-c983-41b6-9fd5-9c88f12af4be button.colab-df-convert');\n",
              "        buttonEl.style.display =\n",
              "          google.colab.kernel.accessAllowed ? 'block' : 'none';\n",
              "\n",
              "        async function convertToInteractive(key) {\n",
              "          const element = document.querySelector('#df-520ff4fa-c983-41b6-9fd5-9c88f12af4be');\n",
              "          const dataTable =\n",
              "            await google.colab.kernel.invokeFunction('convertToInteractive',\n",
              "                                                     [key], {});\n",
              "          if (!dataTable) return;\n",
              "\n",
              "          const docLinkHtml = 'Like what you see? Visit the ' +\n",
              "            '<a target=\"_blank\" href=https://colab.research.google.com/notebooks/data_table.ipynb>data table notebook</a>'\n",
              "            + ' to learn more about interactive tables.';\n",
              "          element.innerHTML = '';\n",
              "          dataTable['output_type'] = 'display_data';\n",
              "          await google.colab.output.renderOutput(dataTable, element);\n",
              "          const docLink = document.createElement('div');\n",
              "          docLink.innerHTML = docLinkHtml;\n",
              "          element.appendChild(docLink);\n",
              "        }\n",
              "      </script>\n",
              "    </div>\n",
              "  </div>\n",
              "  "
            ]
          },
          "metadata": {},
          "execution_count": 34
        }
      ],
      "source": [
        "pune_aqm.head()"
      ]
    }
  ],
  "metadata": {
    "kernelspec": {
      "display_name": "Python 3 (ipykernel)",
      "language": "python",
      "name": "python3"
    },
    "language_info": {
      "codemirror_mode": {
        "name": "ipython",
        "version": 3
      },
      "file_extension": ".py",
      "mimetype": "text/x-python",
      "name": "python",
      "nbconvert_exporter": "python",
      "pygments_lexer": "ipython3",
      "version": "3.9.13"
    },
    "colab": {
      "name": "main.ipynb",
      "provenance": [],
      "collapsed_sections": []
    }
  },
  "nbformat": 4,
  "nbformat_minor": 5
}